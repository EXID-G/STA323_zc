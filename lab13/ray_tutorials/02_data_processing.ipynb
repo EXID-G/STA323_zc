{
 "cells": [
  {
   "cell_type": "markdown",
   "id": "372c8436",
   "metadata": {},
   "source": [
    "# Data Processing with Ray"
   ]
  },
  {
   "cell_type": "markdown",
   "id": "650c6212",
   "metadata": {},
   "source": [
    "For this chapter you need to install the following dependencies:"
   ]
  },
  {
   "cell_type": "code",
   "execution_count": null,
   "id": "60a6140b",
   "metadata": {},
   "outputs": [],
   "source": [
    "! pip install \"ray[data]==2.2.0\"\n",
    "! pip install \"scikit-learn==1.0.2\"\n",
    "! pip install \"dask==2022.2.0\""
   ]
  },
  {
   "cell_type": "markdown",
   "id": "55fadbe4",
   "metadata": {},
   "source": [
    "![Simple Ray Data](https://raw.githubusercontent.com/maxpumperla/learning_ray/main/notebooks/images/chapter_06/AIR_data.png)\n"
   ]
  },
  {
   "cell_type": "markdown",
   "id": "1043ba57",
   "metadata": {},
   "source": [
    "![Data Pipeline 1](https://raw.githubusercontent.com/maxpumperla/learning_ray/main/notebooks/images/chapter_06/data_pipeline_1.png)"
   ]
  },
  {
   "cell_type": "markdown",
   "id": "ff7e8cc7",
   "metadata": {},
   "source": [
    "![Data Pipeline 2](https://raw.githubusercontent.com/maxpumperla/learning_ray/main/notebooks/images/chapter_06/data_pipeline_2.png)"
   ]
  },
  {
   "cell_type": "markdown",
   "id": "0accb884",
   "metadata": {},
   "source": [
    "![Data Positioning 1](https://raw.githubusercontent.com/maxpumperla/learning_ray/main/notebooks/images/chapter_06/data_positioning_1.png)"
   ]
  },
  {
   "cell_type": "markdown",
   "id": "aead4437",
   "metadata": {},
   "source": [
    "![Data Positioning 2](https://raw.githubusercontent.com/maxpumperla/learning_ray/main/notebooks/images/chapter_06/data_positioning_2.png)"
   ]
  },
  {
   "cell_type": "markdown",
   "id": "23ee4f73",
   "metadata": {},
   "source": [
    "![Data Architecture](https://raw.githubusercontent.com/maxpumperla/learning_ray/main/notebooks/images/chapter_06/datasets_arch.png)"
   ]
  },
  {
   "cell_type": "markdown",
   "id": "43ccb4b1",
   "metadata": {},
   "source": [
    "![Data ML Workflow](https://raw.githubusercontent.com/maxpumperla/learning_ray/main/notebooks/images/chapter_06/ml_workflow.png)"
   ]
  },
  {
   "cell_type": "code",
   "execution_count": 1,
   "id": "20447273",
   "metadata": {
    "lines_to_next_cell": 2,
    "tags": []
   },
   "outputs": [
    {
     "name": "stderr",
     "output_type": "stream",
     "text": [
      "2024-05-11 03:06:34,373\tWARNING services.py:2009 -- WARNING: The object store is using /tmp instead of /dev/shm because /dev/shm has only 67063808 bytes available. This will harm performance! You may be able to free up space by deleting files in /dev/shm. If you are inside a Docker container, you can increase /dev/shm size by passing '--shm-size=10.24gb' to 'docker run' (or add it to the run_options list in a Ray cluster config). Make sure to set this to more than 30% of available RAM.\n",
      "2024-05-11 03:06:34,508\tINFO worker.py:1749 -- Started a local Ray instance.\n",
      "2024-05-11 03:06:37,791\tINFO dataset.py:2370 -- Tip: Use `take_batch()` instead of `take() / show()` to return records in pandas or numpy batch format.\n",
      "2024-05-11 03:06:37,802\tINFO streaming_executor.py:112 -- Starting execution of Dataset. Full logs are in /tmp/ray/session_2024-05-11_03-06-32_745256_1190438/logs/ray-data\n",
      "2024-05-11 03:06:37,806\tINFO streaming_executor.py:113 -- Execution plan of Dataset: InputDataBuffer[Input] -> TaskPoolMapOperator[ReadRange] -> LimitOperator[limit=5]\n"
     ]
    },
    {
     "name": "stdout",
     "output_type": "stream",
     "text": [
      "10000\n"
     ]
    },
    {
     "data": {
      "application/vnd.jupyter.widget-view+json": {
       "model_id": "9876ceda310143a0ae5923dad9bce7ee",
       "version_major": 2,
       "version_minor": 0
      },
      "text/plain": [
       "- ReadRange 1:   0%|          | 0/257 [00:00<?, ?it/s]"
      ]
     },
     "metadata": {},
     "output_type": "display_data"
    },
    {
     "data": {
      "application/vnd.jupyter.widget-view+json": {
       "model_id": "d88ef20467dd436ba00e7d3b01c6c473",
       "version_major": 2,
       "version_minor": 0
      },
      "text/plain": [
       "- limit=5 2:   0%|          | 0/257 [00:00<?, ?it/s]"
      ]
     },
     "metadata": {},
     "output_type": "display_data"
    },
    {
     "data": {
      "application/vnd.jupyter.widget-view+json": {
       "model_id": "ac495a2d6e3646168dcb812030bd1329",
       "version_major": 2,
       "version_minor": 0
      },
      "text/plain": [
       "Running 0:   0%|          | 0/257 [00:00<?, ?it/s]"
      ]
     },
     "metadata": {},
     "output_type": "display_data"
    },
    {
     "name": "stdout",
     "output_type": "stream",
     "text": [
      "[{'id': 0}, {'id': 1}, {'id': 2}, {'id': 3}, {'id': 4}]\n",
      "Column  Type\n",
      "------  ----\n",
      "id      int64\n"
     ]
    }
   ],
   "source": [
    "import ray\n",
    "\n",
    "# Create a dataset containing integers in the range [0, 10000).\n",
    "ds = ray.data.range(10000)\n",
    "\n",
    "# Basic operations: show the size of the dataset, get a few samples, print the schema.\n",
    "print(ds.count())  # -> 10000\n",
    "print(ds.take(5))  # -> [0, 1, 2, 3, 4]\n",
    "print(ds.schema())  # -> <class 'int'>"
   ]
  },
  {
   "cell_type": "code",
   "execution_count": 3,
   "id": "665a2ff7",
   "metadata": {
    "lines_to_next_cell": 2,
    "tags": []
   },
   "outputs": [
    {
     "name": "stderr",
     "output_type": "stream",
     "text": [
      "2024-05-11 03:08:33,110\tINFO streaming_executor.py:112 -- Starting execution of Dataset. Full logs are in /tmp/ray/session_2024-05-11_03-06-32_745256_1190438/logs/ray-data\n",
      "2024-05-11 03:08:33,112\tINFO streaming_executor.py:113 -- Execution plan of Dataset: InputDataBuffer[Input] -> TaskPoolMapOperator[ReadRange->Write]\n"
     ]
    },
    {
     "data": {
      "application/vnd.jupyter.widget-view+json": {
       "model_id": "8642d8817b114e3293b82e4ae3980584",
       "version_major": 2,
       "version_minor": 0
      },
      "text/plain": [
       "- ReadRange->Write 1:   0%|          | 0/257 [00:00<?, ?it/s]"
      ]
     },
     "metadata": {},
     "output_type": "display_data"
    },
    {
     "data": {
      "application/vnd.jupyter.widget-view+json": {
       "model_id": "cfeb7d24db7d4c25bd1f870668d1588d",
       "version_major": 2,
       "version_minor": 0
      },
      "text/plain": [
       "Running 0:   0%|          | 0/257 [00:00<?, ?it/s]"
      ]
     },
     "metadata": {},
     "output_type": "display_data"
    },
    {
     "data": {
      "application/vnd.jupyter.widget-view+json": {
       "model_id": "9d6fb87804c8447695f006f3174620dc",
       "version_major": 2,
       "version_minor": 0
      },
      "text/plain": [
       "Read progress 0:   0%|          | 0/256 [00:00<?, ?it/s]"
      ]
     },
     "metadata": {},
     "output_type": "display_data"
    },
    {
     "name": "stdout",
     "output_type": "stream",
     "text": [
      "20000\n"
     ]
    }
   ],
   "source": [
    "# Save the dataset to a local file and load it back.\n",
    "ray.data.range(10000).write_csv(\"local_dir\")\n",
    "ds = ray.data.read_csv(\"local_dir\")\n",
    "print(ds.count())"
   ]
  },
  {
   "cell_type": "code",
   "execution_count": 14,
   "id": "5847b020",
   "metadata": {
    "lines_to_next_cell": 2,
    "tags": []
   },
   "outputs": [
    {
     "name": "stderr",
     "output_type": "stream",
     "text": [
      "2024-05-11 04:03:59,259\tINFO streaming_executor.py:112 -- Starting execution of Dataset. Full logs are in /tmp/ray/session_2024-05-11_03-06-32_745256_1190438/logs/ray-data\n",
      "2024-05-11 04:03:59,260\tINFO streaming_executor.py:113 -- Execution plan of Dataset: InputDataBuffer[Input] -> TaskPoolMapOperator[ReadRange], InputDataBuffer[Input] -> TaskPoolMapOperator[ReadRange] -> UnionOperator[UnionOperator(ReadRange, ReadRange)]\n"
     ]
    },
    {
     "data": {
      "application/vnd.jupyter.widget-view+json": {
       "model_id": "c2788bfb0e09451ba1718c3c2a4a813a",
       "version_major": 2,
       "version_minor": 0
      },
      "text/plain": [
       "- ReadRange 1:   0%|          | 0/257 [00:00<?, ?it/s]"
      ]
     },
     "metadata": {},
     "output_type": "display_data"
    },
    {
     "data": {
      "application/vnd.jupyter.widget-view+json": {
       "model_id": "cb5f16a980dd4062bdeee338ed38ff08",
       "version_major": 2,
       "version_minor": 0
      },
      "text/plain": [
       "- ReadRange 2:   0%|          | 0/257 [00:00<?, ?it/s]"
      ]
     },
     "metadata": {},
     "output_type": "display_data"
    },
    {
     "data": {
      "application/vnd.jupyter.widget-view+json": {
       "model_id": "59626f3366e74347affb3f8c37185964",
       "version_major": 2,
       "version_minor": 0
      },
      "text/plain": [
       "- UnionOperator(ReadRange, ReadRange) 3:   0%|          | 0/514 [00:00<?, ?it/s]"
      ]
     },
     "metadata": {},
     "output_type": "display_data"
    },
    {
     "data": {
      "application/vnd.jupyter.widget-view+json": {
       "model_id": "0766c9617bb1440aa38add7d4b7bdfcf",
       "version_major": 2,
       "version_minor": 0
      },
      "text/plain": [
       "Running 0:   0%|          | 0/514 [00:00<?, ?it/s]"
      ]
     },
     "metadata": {},
     "output_type": "display_data"
    },
    {
     "name": "stderr",
     "output_type": "stream",
     "text": [
      "2024-05-11 04:04:00,572\tINFO streaming_executor.py:112 -- Starting execution of Dataset. Full logs are in /tmp/ray/session_2024-05-11_03-06-32_745256_1190438/logs/ray-data\n",
      "2024-05-11 04:04:00,573\tINFO streaming_executor.py:113 -- Execution plan of Dataset: InputDataBuffer[Input] -> TaskPoolMapOperator[ReadRange], InputDataBuffer[Input] -> TaskPoolMapOperator[ReadRange] -> UnionOperator[UnionOperator(ReadRange, ReadRange)] -> TaskPoolMapOperator[Filter(<lambda>)]\n"
     ]
    },
    {
     "name": "stdout",
     "output_type": "stream",
     "text": [
      "20000\n"
     ]
    },
    {
     "data": {
      "application/vnd.jupyter.widget-view+json": {
       "model_id": "c6608b5f603b4536bd3eb4723a303b52",
       "version_major": 2,
       "version_minor": 0
      },
      "text/plain": [
       "- ReadRange 1:   0%|          | 0/257 [00:00<?, ?it/s]"
      ]
     },
     "metadata": {},
     "output_type": "display_data"
    },
    {
     "data": {
      "application/vnd.jupyter.widget-view+json": {
       "model_id": "9be3da3bcd794c128b90ed200c9b7f86",
       "version_major": 2,
       "version_minor": 0
      },
      "text/plain": [
       "- ReadRange 2:   0%|          | 0/257 [00:00<?, ?it/s]"
      ]
     },
     "metadata": {},
     "output_type": "display_data"
    },
    {
     "data": {
      "application/vnd.jupyter.widget-view+json": {
       "model_id": "71300e7c889f4723a75762a5eeaa9d3d",
       "version_major": 2,
       "version_minor": 0
      },
      "text/plain": [
       "- UnionOperator(ReadRange, ReadRange) 3:   0%|          | 0/514 [00:00<?, ?it/s]"
      ]
     },
     "metadata": {},
     "output_type": "display_data"
    },
    {
     "data": {
      "application/vnd.jupyter.widget-view+json": {
       "model_id": "d9533589e86744a783afb5c95efb6960",
       "version_major": 2,
       "version_minor": 0
      },
      "text/plain": [
       "- Filter(<lambda>) 4:   0%|          | 0/514 [00:00<?, ?it/s]"
      ]
     },
     "metadata": {},
     "output_type": "display_data"
    },
    {
     "data": {
      "application/vnd.jupyter.widget-view+json": {
       "model_id": "158a3a3bbfac41e0ad933e71afcc4c70",
       "version_major": 2,
       "version_minor": 0
      },
      "text/plain": [
       "Running 0:   0%|          | 0/514 [00:00<?, ?it/s]"
      ]
     },
     "metadata": {},
     "output_type": "display_data"
    },
    {
     "name": "stderr",
     "output_type": "stream",
     "text": [
      "2024-05-11 04:04:02,457\tINFO streaming_executor.py:112 -- Starting execution of Dataset. Full logs are in /tmp/ray/session_2024-05-11_03-06-32_745256_1190438/logs/ray-data\n",
      "2024-05-11 04:04:02,458\tINFO streaming_executor.py:113 -- Execution plan of Dataset: InputDataBuffer[Input] -> TaskPoolMapOperator[ReadRange], InputDataBuffer[Input] -> TaskPoolMapOperator[ReadRange] -> UnionOperator[UnionOperator(ReadRange, ReadRange)] -> TaskPoolMapOperator[Filter(<lambda>)] -> LimitOperator[limit=5]\n"
     ]
    },
    {
     "name": "stdout",
     "output_type": "stream",
     "text": [
      "10000\n"
     ]
    },
    {
     "data": {
      "application/vnd.jupyter.widget-view+json": {
       "model_id": "a7f3df9bb0be46de954ef58904d3a093",
       "version_major": 2,
       "version_minor": 0
      },
      "text/plain": [
       "- ReadRange 1:   0%|          | 0/257 [00:00<?, ?it/s]"
      ]
     },
     "metadata": {},
     "output_type": "display_data"
    },
    {
     "data": {
      "application/vnd.jupyter.widget-view+json": {
       "model_id": "f63e18f0fd8049688d4f6ab9d91e8675",
       "version_major": 2,
       "version_minor": 0
      },
      "text/plain": [
       "- ReadRange 2:   0%|          | 0/257 [00:00<?, ?it/s]"
      ]
     },
     "metadata": {},
     "output_type": "display_data"
    },
    {
     "data": {
      "application/vnd.jupyter.widget-view+json": {
       "model_id": "a20ef79a1d2f482495168252754dd8ee",
       "version_major": 2,
       "version_minor": 0
      },
      "text/plain": [
       "- UnionOperator(ReadRange, ReadRange) 3:   0%|          | 0/514 [00:00<?, ?it/s]"
      ]
     },
     "metadata": {},
     "output_type": "display_data"
    },
    {
     "data": {
      "application/vnd.jupyter.widget-view+json": {
       "model_id": "046f7fa7e13c4ebe896cecb4c72f225b",
       "version_major": 2,
       "version_minor": 0
      },
      "text/plain": [
       "- Filter(<lambda>) 4:   0%|          | 0/514 [00:00<?, ?it/s]"
      ]
     },
     "metadata": {},
     "output_type": "display_data"
    },
    {
     "data": {
      "application/vnd.jupyter.widget-view+json": {
       "model_id": "5cc7991de6b845f9821670c207a5aca7",
       "version_major": 2,
       "version_minor": 0
      },
      "text/plain": [
       "- limit=5 5:   0%|          | 0/514 [00:00<?, ?it/s]"
      ]
     },
     "metadata": {},
     "output_type": "display_data"
    },
    {
     "data": {
      "application/vnd.jupyter.widget-view+json": {
       "model_id": "e52c6a1c22c64ef888a7f54d6eb3fd76",
       "version_major": 2,
       "version_minor": 0
      },
      "text/plain": [
       "Running 0:   0%|          | 0/514 [00:00<?, ?it/s]"
      ]
     },
     "metadata": {},
     "output_type": "display_data"
    },
    {
     "name": "stdout",
     "output_type": "stream",
     "text": [
      "[{'id': 0}, {'id': 2}, {'id': 4}, {'id': 6}, {'id': 8}]\n"
     ]
    }
   ],
   "source": [
    "ds1 = ray.data.range(10000)\n",
    "ds2 = ray.data.range(10000)\n",
    "ds3 = ds1.union(ds2)\n",
    "print(ds3.count())  # -> 20000\n",
    "\n",
    "# Filter the combined dataset to only the even elements.\n",
    "ds3 = ds3.filter(lambda x: x['id'] % 2 == 0)\n",
    "print(ds3.count())  # -> 10000\n",
    "print(ds3.take(5))  # -> [0, 2, 4, 6, 8]\n"
   ]
  },
  {
   "cell_type": "code",
   "execution_count": 18,
   "id": "09c5ecc7",
   "metadata": {
    "lines_to_next_cell": 2,
    "tags": []
   },
   "outputs": [
    {
     "data": {
      "application/vnd.jupyter.widget-view+json": {
       "model_id": "ec971a15dcd245498811c7c679814152",
       "version_major": 2,
       "version_minor": 0
      },
      "text/plain": [
       "Read progress 0:   0%|          | 0/257 [00:00<?, ?it/s]"
      ]
     },
     "metadata": {},
     "output_type": "display_data"
    },
    {
     "name": "stdout",
     "output_type": "stream",
     "text": [
      "257\n"
     ]
    },
    {
     "data": {
      "application/vnd.jupyter.widget-view+json": {
       "model_id": "e4e833386b7a44c9b593995f7bd36643",
       "version_major": 2,
       "version_minor": 0
      },
      "text/plain": [
       "Read progress 0:   0%|          | 0/257 [00:00<?, ?it/s]"
      ]
     },
     "metadata": {},
     "output_type": "display_data"
    },
    {
     "name": "stderr",
     "output_type": "stream",
     "text": [
      "2024-05-11 04:05:28,595\tINFO streaming_executor.py:112 -- Starting execution of Dataset. Full logs are in /tmp/ray/session_2024-05-11_03-06-32_745256_1190438/logs/ray-data\n",
      "2024-05-11 04:05:28,596\tINFO streaming_executor.py:113 -- Execution plan of Dataset: InputDataBuffer[Input], InputDataBuffer[Input] -> UnionOperator[UnionOperator(Input, Input)]\n"
     ]
    },
    {
     "name": "stdout",
     "output_type": "stream",
     "text": [
      "257\n"
     ]
    },
    {
     "data": {
      "application/vnd.jupyter.widget-view+json": {
       "model_id": "005fed25afc342c996c0a9fa10eccf2b",
       "version_major": 2,
       "version_minor": 0
      },
      "text/plain": [
       "- UnionOperator(Input, Input) 1:   0%|          | 0/514 [00:00<?, ?it/s]"
      ]
     },
     "metadata": {},
     "output_type": "display_data"
    },
    {
     "data": {
      "application/vnd.jupyter.widget-view+json": {
       "model_id": "f37fea878e3f4d69864459faed291577",
       "version_major": 2,
       "version_minor": 0
      },
      "text/plain": [
       "Running 0:   0%|          | 0/514 [00:00<?, ?it/s]"
      ]
     },
     "metadata": {},
     "output_type": "display_data"
    },
    {
     "name": "stderr",
     "output_type": "stream",
     "text": [
      "2024-05-11 04:05:28,668\tINFO streaming_executor.py:112 -- Starting execution of Dataset. Full logs are in /tmp/ray/session_2024-05-11_03-06-32_745256_1190438/logs/ray-data\n",
      "2024-05-11 04:05:28,668\tINFO streaming_executor.py:113 -- Execution plan of Dataset: InputDataBuffer[Input] -> AllToAllOperator[Repartition]\n"
     ]
    },
    {
     "name": "stdout",
     "output_type": "stream",
     "text": [
      "514\n"
     ]
    },
    {
     "data": {
      "application/vnd.jupyter.widget-view+json": {
       "model_id": "e7963b87f51346a6adf071a2bd99de3c",
       "version_major": 2,
       "version_minor": 0
      },
      "text/plain": [
       "- Repartition 1:   0%|          | 0/200 [00:00<?, ?it/s]"
      ]
     },
     "metadata": {},
     "output_type": "display_data"
    },
    {
     "data": {
      "application/vnd.jupyter.widget-view+json": {
       "model_id": "5c1c4087694f44d8b7c90c458e723209",
       "version_major": 2,
       "version_minor": 0
      },
      "text/plain": [
       "Split Repartition 2:   0%|          | 0/200 [00:00<?, ?it/s]"
      ]
     },
     "metadata": {},
     "output_type": "display_data"
    },
    {
     "data": {
      "application/vnd.jupyter.widget-view+json": {
       "model_id": "8484c2d296764bb4bdfcf0140fd495b9",
       "version_major": 2,
       "version_minor": 0
      },
      "text/plain": [
       "Running 0:   0%|          | 0/200 [00:00<?, ?it/s]"
      ]
     },
     "metadata": {},
     "output_type": "display_data"
    },
    {
     "name": "stdout",
     "output_type": "stream",
     "text": [
      "200\n"
     ]
    }
   ],
   "source": [
    "ds1 = ray.data.range(10000).materialize()\n",
    "print(ds1.num_blocks())  # -> 200\n",
    "ds2 = ray.data.range(10000).materialize()\n",
    "print(ds2.num_blocks())  # -> 200\n",
    "ds3 = ds1.union(ds2).materialize()\n",
    "print(ds3.num_blocks())  # -> 400\n",
    "\n",
    "print(ds3.repartition(200).materialize().num_blocks())  # -> 200"
   ]
  },
  {
   "cell_type": "code",
   "execution_count": 19,
   "id": "08f6cbde",
   "metadata": {
    "lines_to_next_cell": 2,
    "tags": []
   },
   "outputs": [
    {
     "name": "stdout",
     "output_type": "stream",
     "text": [
      "Column  Type\n",
      "------  ----\n",
      "id      string\n",
      "value   int64\n"
     ]
    }
   ],
   "source": [
    "ds = ray.data.from_items([{\"id\": \"abc\", \"value\": 1}, {\"id\": \"def\", \"value\": 2}])\n",
    "print(ds.schema())  # -> id: string, value: int64"
   ]
  },
  {
   "cell_type": "code",
   "execution_count": 20,
   "id": "8c4dcf23",
   "metadata": {
    "lines_to_next_cell": 2,
    "tags": []
   },
   "outputs": [],
   "source": [
    "pandas_df = ds.to_pandas()  # pandas_df will inherit the schema from our Dataset."
   ]
  },
  {
   "cell_type": "code",
   "execution_count": 26,
   "id": "bdb1d60e",
   "metadata": {
    "lines_to_next_cell": 2,
    "tags": []
   },
   "outputs": [
    {
     "name": "stderr",
     "output_type": "stream",
     "text": [
      "2024-05-11 04:08:05,539\tINFO streaming_executor.py:112 -- Starting execution of Dataset. Full logs are in /tmp/ray/session_2024-05-11_03-06-32_745256_1190438/logs/ray-data\n",
      "2024-05-11 04:08:05,539\tINFO streaming_executor.py:113 -- Execution plan of Dataset: InputDataBuffer[Input] -> TaskPoolMapOperator[ReadRange->Map(<lambda>)] -> LimitOperator[limit=5]\n"
     ]
    },
    {
     "data": {
      "application/vnd.jupyter.widget-view+json": {
       "model_id": "5d52bc57810141f4af37bd25c89085c1",
       "version_major": 2,
       "version_minor": 0
      },
      "text/plain": [
       "- ReadRange->Map(<lambda>) 1:   0%|          | 0/257 [00:00<?, ?it/s]"
      ]
     },
     "metadata": {},
     "output_type": "display_data"
    },
    {
     "data": {
      "application/vnd.jupyter.widget-view+json": {
       "model_id": "8333f025aabb433eb7cb26ae53af7efd",
       "version_major": 2,
       "version_minor": 0
      },
      "text/plain": [
       "- limit=5 2:   0%|          | 0/257 [00:00<?, ?it/s]"
      ]
     },
     "metadata": {},
     "output_type": "display_data"
    },
    {
     "data": {
      "application/vnd.jupyter.widget-view+json": {
       "model_id": "fba9703801544902977f11346d807f77",
       "version_major": 2,
       "version_minor": 0
      },
      "text/plain": [
       "Running 0:   0%|          | 0/257 [00:00<?, ?it/s]"
      ]
     },
     "metadata": {},
     "output_type": "display_data"
    },
    {
     "data": {
      "text/plain": [
       "[{'item': 0}, {'item': 1}, {'item': 4}, {'item': 9}, {'item': 16}]"
      ]
     },
     "execution_count": 26,
     "metadata": {},
     "output_type": "execute_result"
    }
   ],
   "source": [
    "ds = ray.data.range(10000).map(lambda x: {'item': x['id'] ** 2})\n",
    "ds.take(5)  # -> [0, 1, 4, 9, 16]"
   ]
  },
  {
   "cell_type": "code",
   "execution_count": 42,
   "id": "51bd5b81",
   "metadata": {
    "lines_to_next_cell": 2,
    "tags": []
   },
   "outputs": [
    {
     "name": "stderr",
     "output_type": "stream",
     "text": [
      "2024-05-11 04:20:04,076\tINFO streaming_executor.py:112 -- Starting execution of Dataset. Full logs are in /tmp/ray/session_2024-05-11_03-06-32_745256_1190438/logs/ray-data\n",
      "2024-05-11 04:20:04,076\tINFO streaming_executor.py:113 -- Execution plan of Dataset: InputDataBuffer[Input] -> TaskPoolMapOperator[ReadRange->MapBatches(<lambda>)] -> LimitOperator[limit=5]\n"
     ]
    },
    {
     "data": {
      "application/vnd.jupyter.widget-view+json": {
       "model_id": "ea9832103b204d94a26d5e8fa99be61b",
       "version_major": 2,
       "version_minor": 0
      },
      "text/plain": [
       "- ReadRange->MapBatches(<lambda>) 1:   0%|          | 0/257 [00:00<?, ?it/s]"
      ]
     },
     "metadata": {},
     "output_type": "display_data"
    },
    {
     "data": {
      "application/vnd.jupyter.widget-view+json": {
       "model_id": "3ac3fae8a461407d86906b8199134e2a",
       "version_major": 2,
       "version_minor": 0
      },
      "text/plain": [
       "- limit=5 2:   0%|          | 0/257 [00:00<?, ?it/s]"
      ]
     },
     "metadata": {},
     "output_type": "display_data"
    },
    {
     "data": {
      "application/vnd.jupyter.widget-view+json": {
       "model_id": "1f60bd5cb2fc4d30b1bc6c3c4116db0f",
       "version_major": 2,
       "version_minor": 0
      },
      "text/plain": [
       "Running 0:   0%|          | 0/257 [00:00<?, ?it/s]"
      ]
     },
     "metadata": {},
     "output_type": "display_data"
    },
    {
     "data": {
      "text/plain": [
       "[{'results': 0},\n",
       " {'results': 1},\n",
       " {'results': 4},\n",
       " {'results': 9},\n",
       " {'results': 16}]"
      ]
     },
     "execution_count": 42,
     "metadata": {},
     "output_type": "execute_result"
    }
   ],
   "source": [
    "import numpy as np\n",
    "\n",
    "ds = ray.data.range(10000).map_batches(lambda batch: {'results': np.square(batch['id']).tolist()})\n",
    "ds.take(5)  # -> [0, 1, 4, 9, 16]"
   ]
  },
  {
   "cell_type": "code",
   "execution_count": null,
   "id": "e1053352-adc3-4348-a238-9eec1f05f977",
   "metadata": {},
   "outputs": [],
   "source": []
  }
 ],
 "metadata": {
  "jupytext": {
   "cell_metadata_filter": "-all",
   "main_language": "python",
   "notebook_metadata_filter": "-all"
  },
  "kernelspec": {
   "display_name": "Python 3 (ipykernel)",
   "language": "python",
   "name": "python3"
  },
  "language_info": {
   "codemirror_mode": {
    "name": "ipython",
    "version": 3
   },
   "file_extension": ".py",
   "mimetype": "text/x-python",
   "name": "python",
   "nbconvert_exporter": "python",
   "pygments_lexer": "ipython3",
   "version": "3.11.7"
  }
 },
 "nbformat": 4,
 "nbformat_minor": 5
}
