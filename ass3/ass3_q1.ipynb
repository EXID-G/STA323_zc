{
 "cells": [
  {
   "cell_type": "code",
   "execution_count": 1,
   "metadata": {},
   "outputs": [],
   "source": [
    "import numpy as np\n",
    "import pandas as pd\n",
    "\n",
    "from pyspark.sql import SparkSession\n",
    "from pyspark.sql import Row\n",
    "# from pyspark.sql.types import StringType, StructType, StructField\n",
    "from pyspark.sql.types import *\n",
    "# import pyspark.sql.functions as F\n",
    "from pyspark.sql.functions import *\n",
    "\n",
    "import warnings\n",
    "warnings.filterwarnings('ignore')"
   ]
  },
  {
   "cell_type": "markdown",
   "metadata": {},
   "source": [
    "# Q1"
   ]
  },
  {
   "cell_type": "code",
   "execution_count": 2,
   "metadata": {},
   "outputs": [
    {
     "name": "stderr",
     "output_type": "stream",
     "text": [
      "Setting default log level to \"WARN\".\n",
      "To adjust logging level use sc.setLogLevel(newLevel). For SparkR, use setLogLevel(newLevel).\n",
      "24/05/02 03:55:12 WARN NativeCodeLoader: Unable to load native-hadoop library for your platform... using builtin-java classes where applicable\n"
     ]
    }
   ],
   "source": [
    "spark = SparkSession.builder.config(\"spark.executor.memory\", \"8g\").config(\"spark.driver.memory\", \"8g\").appName(\"ass3_q1\").getOrCreate()"
   ]
  },
  {
   "cell_type": "code",
   "execution_count": 4,
   "metadata": {},
   "outputs": [
    {
     "data": {
      "text/plain": [
       "['date,delay,distance,origin,destination',\n",
       " '01011245,6,602,ABE,ATL',\n",
       " '01020600,-8,369,ABE,DTW',\n",
       " '01021245,-2,602,ABE,ATL',\n",
       " '01020605,-4,602,ABE,ATL']"
      ]
     },
     "execution_count": 4,
     "metadata": {},
     "output_type": "execute_result"
    }
   ],
   "source": [
    "rdd1 = spark.sparkContext.textFile(\"data/departuredelays.csv\") \n",
    "rdd1.take(5)"
   ]
  },
  {
   "cell_type": "code",
   "execution_count": 4,
   "metadata": {},
   "outputs": [
    {
     "name": "stderr",
     "output_type": "stream",
     "text": [
      "                                                                                \r"
     ]
    },
    {
     "data": {
      "text/plain": [
       "['01011245,6,602,ABE,ATL',\n",
       " '01020600,-8,369,ABE,DTW',\n",
       " '01021245,-2,602,ABE,ATL']"
      ]
     },
     "execution_count": 4,
     "metadata": {},
     "output_type": "execute_result"
    }
   ],
   "source": [
    "rdd1 = rdd1.filter(lambda x: \"delay\" not in x)\n",
    "rdd1.take(3)"
   ]
  },
  {
   "cell_type": "markdown",
   "metadata": {},
   "source": [
    "We can see the column name of each column in the dataset and from left to right are `date, delay, distance, origin, destination`. According to the question, we need to find the rows whose `origin` is `ATL`, which will be partitioned into one partition and the rest will be partitioned into another partition."
   ]
  },
  {
   "cell_type": "code",
   "execution_count": 5,
   "metadata": {},
   "outputs": [
    {
     "data": {
      "text/plain": [
       "[(0, '01011245,6,602,ABE,ATL'),\n",
       " (0, '01020600,-8,369,ABE,DTW'),\n",
       " (0, '01021245,-2,602,ABE,ATL')]"
      ]
     },
     "execution_count": 5,
     "metadata": {},
     "output_type": "execute_result"
    }
   ],
   "source": [
    "rdd2 = rdd1.keyBy(lambda x: 1 if x.split(\",\")[3] == \"ATL\" else 0)\n",
    "rdd2.take(3)"
   ]
  },
  {
   "cell_type": "code",
   "execution_count": 6,
   "metadata": {},
   "outputs": [],
   "source": [
    "import random\n",
    "random.seed(42)\n",
    "\n",
    "def partition_func(key):\n",
    "    if key == 1:        \n",
    "        return 0\n",
    "    else:\n",
    "        return random.randint(1, 3)\n",
    "        # return int(hash(key) % 3) + 1\n",
    "\n",
    "partitioned_rdd = rdd2.partitionBy(4, partition_func)"
   ]
  },
  {
   "cell_type": "code",
   "execution_count": 7,
   "metadata": {},
   "outputs": [
    {
     "name": "stderr",
     "output_type": "stream",
     "text": [
      "                                                                                \r"
     ]
    }
   ],
   "source": [
    "partitioned_rdd = partitioned_rdd.map(lambda x: x[1])\n",
    "partition_list = partitioned_rdd.glom().collect()"
   ]
  },
  {
   "cell_type": "code",
   "execution_count": 8,
   "metadata": {},
   "outputs": [
    {
     "name": "stdout",
     "output_type": "stream",
     "text": [
      "The number of elements of 4 partitons in sequence:  [91484, 434701, 432274, 433119]\n",
      "Some elements in partition 1: \n",
      " ['01010640,-4,517,ATL,MIA', '01011925,-1,636,ATL,DFW', '01011245,22,636,ATL,DFW', '01011405,-3,636,ATL,DFW', '01011540,-4,636,ATL,DFW']\n",
      "Some elements in partition 2: \n",
      " ['01020600,-8,369,ABE,DTW', '01021245,-2,602,ABE,ATL', '01020605,-4,602,ABE,ATL', '01041243,10,602,ABE,ATL', '01040605,28,602,ABE,ATL']\n",
      "Some elements in partition 3: \n",
      " ['01050605,9,602,ABE,ATL', '01061725,69,602,ABE,ATL', '01061230,0,369,ABE,DTW', '01071725,0,602,ABE,ATL', '01071219,0,569,ABE,ORD']\n",
      "Some elements in partition 4: \n",
      " ['01011245,6,602,ABE,ATL', '01031245,-4,602,ABE,ATL', '01030605,0,602,ABE,ATL', '01051245,88,602,ABE,ATL', '01061215,-6,602,ABE,ATL']\n"
     ]
    }
   ],
   "source": [
    "print(\"The number of elements of 4 partitons in sequence: \",[len(x) for x in partition_list])\n",
    "print(\"Some elements in partition 1: \\n\", partition_list[0][0:5])\n",
    "print(\"Some elements in partition 2: \\n\", partition_list[1][0:5])\n",
    "print(\"Some elements in partition 3: \\n\", partition_list[2][0:5])\n",
    "print(\"Some elements in partition 4: \\n\", partition_list[3][0:5])"
   ]
  }
 ],
 "metadata": {
  "kernelspec": {
   "display_name": "sp",
   "language": "python",
   "name": "python3"
  },
  "language_info": {
   "codemirror_mode": {
    "name": "ipython",
    "version": 3
   },
   "file_extension": ".py",
   "mimetype": "text/x-python",
   "name": "python",
   "nbconvert_exporter": "python",
   "pygments_lexer": "ipython3",
   "version": "3.11.8"
  }
 },
 "nbformat": 4,
 "nbformat_minor": 2
}
