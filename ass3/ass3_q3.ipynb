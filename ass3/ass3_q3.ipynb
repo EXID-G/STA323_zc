{
 "cells": [
  {
   "cell_type": "code",
   "execution_count": 1,
   "metadata": {},
   "outputs": [],
   "source": [
    "import numpy as np\n",
    "import pandas as pd\n",
    "\n",
    "from pyspark.sql import SparkSession\n",
    "from pyspark.sql import Row\n",
    "from pyspark.sql.types import *\n",
    "from pyspark.sql.functions import *\n",
    "\n",
    "import warnings\n",
    "warnings.filterwarnings('ignore')"
   ]
  },
  {
   "cell_type": "markdown",
   "metadata": {},
   "source": [
    "# Q3"
   ]
  },
  {
   "cell_type": "code",
   "execution_count": 2,
   "metadata": {},
   "outputs": [
    {
     "name": "stderr",
     "output_type": "stream",
     "text": [
      "24/05/07 10:45:21 WARN NativeCodeLoader: Unable to load native-hadoop library for your platform... using builtin-java classes where applicable\n",
      "Setting default log level to \"WARN\".\n",
      "To adjust logging level use sc.setLogLevel(newLevel). For SparkR, use setLogLevel(newLevel).\n",
      "Setting Spark log level to \"WARN\".\n"
     ]
    }
   ],
   "source": [
    "import os \n",
    "os.environ['PYSPARK_PYTHON'] = \"/root/anaconda3/bin/python\"     # 设置了运行 PySpark 的 Python 解释器的环境变量\n",
    "\n",
    "spark = SparkSession.builder\\\n",
    "    .config(\\\n",
    "        \"spark.jars\",  \\\n",
    "        \"/shareddata/lab09/kafka-clients-3.5.0.jar, \\\n",
    "        /shareddata/lab09/spark-sql-kafka-0-10_2.12-3.5.0.jar, \\\n",
    "        /shareddata/lab09/spark-token-provider-kafka-0-10_2.12-3.5.0.jar, \\\n",
    "        /shareddata/lab09/commons-pool2-2.12.0.jar\") \\\n",
    "    .config(\"spark.executorEnv.PYSPARK_PYTHON\",\"/root/anaconda3/bin/python\")\\\n",
    "    .config(\"spark.executor.memory\", \"2g\") \\\n",
    "    .config(\"spark.driver.memory\", \"2g\") \\\n",
    "    .config(\"spark.log.level\", \"WARN\") \\\n",
    "    .appName(\"ass3_q3\").getOrCreate()\n"
   ]
  },
  {
   "cell_type": "markdown",
   "metadata": {},
   "source": [
    "## (1)"
   ]
  },
  {
   "cell_type": "markdown",
   "metadata": {},
   "source": [
    "check the data "
   ]
  },
  {
   "cell_type": "markdown",
   "metadata": {},
   "source": [
    "有gender不为0或1的"
   ]
  },
  {
   "cell_type": "code",
   "execution_count": 3,
   "metadata": {},
   "outputs": [
    {
     "name": "stdout",
     "output_type": "stream",
     "text": [
      "+-------+-------+------+-----------+--------+-----+---+------+---------+------+--------+\n",
      "|user_id|item_id|cat_id|merchant_id|brand_id|month|day|action|age_range|gender|province|\n",
      "+-------+-------+------+-----------+--------+-----+---+------+---------+------+--------+\n",
      "| 328862| 323294|   833|       2882|    2661|   08| 29|     0|        0|     1|  内蒙古|\n",
      "| 328862| 844400|  1271|       2882|    2661|   08| 29|     0|        1|     1|    山西|\n",
      "| 328862| 575153|  1271|       2882|    2661|   08| 29|     0|        2|     1|    山西|\n",
      "| 328862| 996875|  1271|       2882|    2661|   08| 29|     0|        1|     1|  内蒙古|\n",
      "| 328862|1086186|  1271|       1253|    1049|   08| 29|     0|        0|     2|    浙江|\n",
      "+-------+-------+------+-----------+--------+-----+---+------+---------+------+--------+\n",
      "only showing top 5 rows\n",
      "\n"
     ]
    },
    {
     "data": {
      "text/plain": [
       "266736"
      ]
     },
     "execution_count": 3,
     "metadata": {},
     "output_type": "execute_result"
    }
   ],
   "source": [
    "df = spark.read.csv(\"data/shopping_data/user_log.csv\",header=True)\n",
    "df.show(5)\n",
    "df.where((col(\"gender\") != 0) & (col(\"gender\") != 1)).count()"
   ]
  },
  {
   "cell_type": "code",
   "execution_count": 4,
   "metadata": {},
   "outputs": [],
   "source": [
    "df = spark.readStream.format(\"kafka\")\\\n",
    "\t.option(\"kafka.bootstrap.servers\", \"localhost:64050\")\\\n",
    "\t.option(\"subscribe\", \"q3\")\\\n",
    "\t.option(\"startingOffsets\", \"earliest\")\\\n",
    "    .load()"
   ]
  },
  {
   "cell_type": "code",
   "execution_count": 5,
   "metadata": {},
   "outputs": [
    {
     "name": "stdout",
     "output_type": "stream",
     "text": [
      "root\n",
      " |-- key: binary (nullable = true)\n",
      " |-- value: binary (nullable = true)\n",
      " |-- topic: string (nullable = true)\n",
      " |-- partition: integer (nullable = true)\n",
      " |-- offset: long (nullable = true)\n",
      " |-- timestamp: timestamp (nullable = true)\n",
      " |-- timestampType: integer (nullable = true)\n",
      "\n"
     ]
    }
   ],
   "source": [
    "df.printSchema()"
   ]
  },
  {
   "cell_type": "markdown",
   "metadata": {},
   "source": [
    "时间戳类型是interger，需要转换成datetime类型\n",
    "\n",
    ".select(\"key\", \"data.*\")"
   ]
  },
  {
   "cell_type": "code",
   "execution_count": 6,
   "metadata": {},
   "outputs": [
    {
     "name": "stderr",
     "output_type": "stream",
     "text": [
      "24/05/07 10:45:28 WARN ResolveWriteToStream: Temporary checkpoint location created which is deleted normally when the query didn't fail: /tmp/temporary-d434029a-de26-4863-b9ec-3314ced2e7dd. If it's required to delete it under any circumstances, please set spark.sql.streaming.forceDeleteTempCheckpointLocation to true. Important to know deleting temp checkpoint folder is best effort.\n",
      "24/05/07 10:45:28 WARN ResolveWriteToStream: spark.sql.adaptive.enabled is not supported in streaming DataFrames/Datasets and will be disabled.\n"
     ]
    }
   ],
   "source": [
    "df1 = df.selectExpr(\"CAST(key AS STRING)\", \"CAST(value AS STRING)\",\"CAST (timestamp AS TIMESTAMP)\")\n",
    "schema = \"gender INT, action INT\"\n",
    "df2 = df1.selectExpr(\"key\", \"from_json(value, '{}') AS data\".format(schema), \"timestamp\")\n",
    "\n",
    "df_filter = df2.where((col(\"data.action\") == 2) & (col(\"data.gender\") != 0) & (col(\"data.gender\") != 1))\n",
    "result = df_filter.withWatermark(\"timestamp\", \"10 seconds\").groupBy(\"data.gender\",window(\"timestamp\", \"5 seconds\")).agg(count(\"*\").alias(\"Number of transactions\"))\n",
    "q3_query = result.writeStream.queryName(\"transaction_count\").format(\"memory\").outputMode(\"update\").trigger(processingTime=\"5 seconds\").start()"
   ]
  },
  {
   "cell_type": "code",
   "execution_count": 24,
   "metadata": {},
   "outputs": [
    {
     "name": "stdout",
     "output_type": "stream",
     "text": [
      "+------+------+----------------------+\n",
      "|window|gender|Number of transactions|\n",
      "+------+------+----------------------+\n",
      "+------+------+----------------------+\n",
      "\n"
     ]
    }
   ],
   "source": [
    "spark.sql(\"SELECT window, gender, `Number of transactions` FROM transaction_count\").show(20,False)"
   ]
  },
  {
   "cell_type": "code",
   "execution_count": 8,
   "metadata": {},
   "outputs": [],
   "source": [
    "q3_query.stop()"
   ]
  },
  {
   "cell_type": "code",
   "execution_count": null,
   "metadata": {},
   "outputs": [],
   "source": []
  }
 ],
 "metadata": {
  "kernelspec": {
   "display_name": "sp",
   "language": "python",
   "name": "python3"
  },
  "language_info": {
   "codemirror_mode": {
    "name": "ipython",
    "version": 3
   },
   "file_extension": ".py",
   "mimetype": "text/x-python",
   "name": "python",
   "nbconvert_exporter": "python",
   "pygments_lexer": "ipython3",
   "version": "3.11.8"
  }
 },
 "nbformat": 4,
 "nbformat_minor": 2
}
