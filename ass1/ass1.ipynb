{
 "cells": [
  {
   "cell_type": "code",
   "execution_count": 119,
   "metadata": {},
   "outputs": [],
   "source": [
    "import numpy as np\n",
    "import pandas as pd\n",
    "import matplotlib.pyplot as plt\n",
    "import seaborn as sns\n",
    "\n",
    "from pyspark.sql import SparkSession\n",
    "from pyspark.sql import Row\n",
    "from pyspark.sql.types import *\n",
    "from pyspark.sql.functions import *\n",
    "\n",
    "import warnings\n",
    "warnings.filterwarnings('ignore')"
   ]
  },
  {
   "cell_type": "markdown",
   "metadata": {},
   "source": [
    "# Q1"
   ]
  },
  {
   "cell_type": "code",
   "execution_count": 120,
   "metadata": {},
   "outputs": [
    {
     "name": "stderr",
     "output_type": "stream",
     "text": [
      "24/03/21 12:40:14 WARN SparkSession: Using an existing Spark session; only runtime SQL configurations will take effect.\n"
     ]
    }
   ],
   "source": [
    "spark = SparkSession.builder.config('spark.ui.port', 64050).appName(\"ass1_q1\").getOrCreate()"
   ]
  },
  {
   "cell_type": "markdown",
   "metadata": {},
   "source": [
    "### (1)"
   ]
  },
  {
   "cell_type": "code",
   "execution_count": 121,
   "metadata": {
    "notebookRunGroups": {
     "groupValue": ""
    }
   },
   "outputs": [
    {
     "name": "stdout",
     "output_type": "stream",
     "text": [
      "+---------+---------+--------------------+--------+--------------+---------+----------+--------------+\n",
      "|InvoiceNo|StockCode|         Description|Quantity|   InvoiceDate|UnitPrice|CustomerID|       Country|\n",
      "+---------+---------+--------------------+--------+--------------+---------+----------+--------------+\n",
      "|   536365|     NULL|WHITE HANGING HEA...|       6|12/1/2010 8:26|     2.55|     17850|United Kingdom|\n",
      "|   536365|    71053| WHITE METAL LANTERN|       6|12/1/2010 8:26|     3.39|     17850|United Kingdom|\n",
      "|   536365|     NULL|CREAM CUPID HEART...|       8|12/1/2010 8:26|     2.75|     17850|United Kingdom|\n",
      "|   536365|     NULL|KNITTED UNION FLA...|       6|12/1/2010 8:26|     3.39|     17850|United Kingdom|\n",
      "|   536365|     NULL|RED WOOLLY HOTTIE...|       6|12/1/2010 8:26|     3.39|     17850|United Kingdom|\n",
      "+---------+---------+--------------------+--------+--------------+---------+----------+--------------+\n",
      "only showing top 5 rows\n",
      "\n"
     ]
    },
    {
     "data": {
      "text/plain": [
       "541909"
      ]
     },
     "execution_count": 121,
     "metadata": {},
     "output_type": "execute_result"
    }
   ],
   "source": [
    "schema = StructType([\n",
    "\tStructField(\"InvoiceNo\", IntegerType(), False),     # 第三个：是否允许有空值\n",
    "\tStructField(\"StockCode\", IntegerType(), False),\n",
    "\tStructField(\"Description\", StringType(), False),\n",
    "\tStructField(\"Quantity\", IntegerType(), False),\n",
    "\tStructField(\"InvoiceDate\", StringType(), False),\n",
    "\tStructField(\"UnitPrice\", FloatType(), False),\n",
    "\tStructField(\"CustomerID\", IntegerType(), False),\n",
    "\tStructField(\"Country\", StringType(), False)\n",
    "])\n",
    "df = spark.read.csv(\"./data/Q1_data/retail-dataset.csv\", header=True, schema=schema)\n",
    "df.show(5)\n",
    "df.count()\n"
   ]
  },
  {
   "cell_type": "code",
   "execution_count": 122,
   "metadata": {},
   "outputs": [
    {
     "name": "stdout",
     "output_type": "stream",
     "text": [
      "+---------+---------+--------------------+--------+--------------+---------+----------+--------------+\n",
      "|InvoiceNo|StockCode|         Description|Quantity|   InvoiceDate|UnitPrice|CustomerID|       Country|\n",
      "+---------+---------+--------------------+--------+--------------+---------+----------+--------------+\n",
      "|   536365|    71053| WHITE METAL LANTERN|       6|12/1/2010 8:26|     3.39|     17850|United Kingdom|\n",
      "|   536365|    22752|SET 7 BABUSHKA NE...|       2|12/1/2010 8:26|     7.65|     17850|United Kingdom|\n",
      "|   536365|    21730|GLASS STAR FROSTE...|       6|12/1/2010 8:26|     4.25|     17850|United Kingdom|\n",
      "|   536366|    22633|HAND WARMER UNION...|       6|12/1/2010 8:28|     1.85|     17850|United Kingdom|\n",
      "|   536366|    22632|HAND WARMER RED P...|       6|12/1/2010 8:28|     1.85|     17850|United Kingdom|\n",
      "+---------+---------+--------------------+--------+--------------+---------+----------+--------------+\n",
      "only showing top 5 rows\n",
      "\n"
     ]
    },
    {
     "data": {
      "text/plain": [
       "363087"
      ]
     },
     "execution_count": 122,
     "metadata": {},
     "output_type": "execute_result"
    }
   ],
   "source": [
    "df_clean = df.dropna().filter((col(\"Quantity\") > 0) & (col(\"UnitPrice\")> 0))\n",
    "df_clean.show(5)\n",
    "df_clean.count()"
   ]
  },
  {
   "cell_type": "markdown",
   "metadata": {},
   "source": [
    "### (2)"
   ]
  },
  {
   "cell_type": "code",
   "execution_count": 123,
   "metadata": {},
   "outputs": [
    {
     "name": "stdout",
     "output_type": "stream",
     "text": [
      "+----------------+\n",
      "|      total_cost|\n",
      "+----------------+\n",
      "|8015349.50373831|\n",
      "+----------------+\n",
      "\n"
     ]
    }
   ],
   "source": [
    "df_clean.select(expr(\"sum(UnitPrice * Quantity) as total_cost\")).show()"
   ]
  },
  {
   "cell_type": "markdown",
   "metadata": {},
   "source": [
    "### (3)"
   ]
  },
  {
   "cell_type": "code",
   "execution_count": 124,
   "metadata": {},
   "outputs": [
    {
     "name": "stdout",
     "output_type": "stream",
     "text": [
      "+----------+------------------+\n",
      "|CustomerID|        total_cost|\n",
      "+----------+------------------+\n",
      "|     14646|265106.91930553317|\n",
      "|     18102| 253922.7600557804|\n",
      "|     17450| 180847.0303592682|\n",
      "|     16446|168472.49374997616|\n",
      "|     14911|125544.34975004196|\n",
      "+----------+------------------+\n",
      "only showing top 5 rows\n",
      "\n"
     ]
    }
   ],
   "source": [
    "df_clean.groupBy(\"CustomerID\").agg(expr(\"sum(UnitPrice * Quantity) as total_cost\")).select(col(\"CustomerID\"),col(\"total_cost\")).orderBy(\"total_cost\",ascending = False).show(5)"
   ]
  },
  {
   "cell_type": "markdown",
   "metadata": {},
   "source": [
    "### (4)"
   ]
  },
  {
   "cell_type": "code",
   "execution_count": 125,
   "metadata": {},
   "outputs": [],
   "source": [
    "spark.conf.set(\"spark.sql.legacy.timeParserPolicy\", \"LEGACY\")"
   ]
  },
  {
   "cell_type": "code",
   "execution_count": 126,
   "metadata": {},
   "outputs": [
    {
     "name": "stdout",
     "output_type": "stream",
     "text": [
      "+-------------------+-------------------+\n",
      "|   max(InvoiceDate)|   min(InvoiceDate)|\n",
      "+-------------------+-------------------+\n",
      "|2011-12-09 12:50:00|2010-12-01 08:26:00|\n",
      "+-------------------+-------------------+\n",
      "\n"
     ]
    }
   ],
   "source": [
    "df_4 = df_clean.withColumn(\"InvoiceDate\", to_timestamp(col(\"InvoiceDate\"), \"MM/dd/yyyy HH:mm\"))\n",
    "df_4.select(max(\"InvoiceDate\"), min(\"InvoiceDate\")).show()"
   ]
  },
  {
   "cell_type": "code",
   "execution_count": 127,
   "metadata": {},
   "outputs": [],
   "source": [
    "list = df_4.where(\"InvoiceDate between '2010-12-01' and '2010-12-05' \").groupBy(\"Country\").agg(expr(\"sum(UnitPrice * Quantity) as total_cost \")).select(col(\"Country\"),col(\"total_cost\")).collect()\n",
    "\n",
    "country_list = [i[\"Country\"] for i in list]\n",
    "cost_list = [i[\"total_cost\"] for i in list]"
   ]
  },
  {
   "cell_type": "code",
   "execution_count": 128,
   "metadata": {},
   "outputs": [
    {
     "data": {
      "image/png": "[encoded data removed]",
      "text/plain": [
       "<Figure size 1500x700 with 2 Axes>"
      ]
     },
     "metadata": {},
     "output_type": "display_data"
    }
   ],
   "source": [
    "plt.style.use(\"fivethirtyeight\")\n",
    "\n",
    "fig, axs = plt.subplots(1, 2, figsize=(15, 7))  # 创建画布，用于放置子图，并让所有子图共享 y 轴\n",
    "# 给总画布取名字, 左对齐，虽然但是也要在x = 0.05的位置\n",
    "plt.suptitle(\"Total income/revenue chart of different countries in different scales\", fontsize=20,weight='bold') \n",
    "# 添加副标题\n",
    "\n",
    "# 微调子图间距以及绘图区域的相对位置\n",
    "plt.subplots_adjust(top = 0.8)\n",
    "\n",
    "sns.barplot(x=country_list, y=cost_list,ax = axs[0],color = \"#108b96\")\n",
    "axs[0].set_title(\"Plot wihtout logarithm\", fontsize=20)\n",
    "axs[0].set_xticklabels(country_list, rotation=45, fontsize=9)\n",
    "\n",
    "sns.barplot(x=country_list, y=cost_list,ax = axs[1],color = \"#108b96\")\n",
    "axs[1].set_yscale('log')\n",
    "axs[1].set_title(\"Plot after logarithm\", fontsize=20)\n",
    "axs[1].set_xticklabels(country_list, rotation=45, fontsize=9);\n",
    "\n",
    "fig.tight_layout()\n",
    "fig.savefig(\"./output/q1_4.svg\")"
   ]
  },
  {
   "cell_type": "code",
   "execution_count": 129,
   "metadata": {},
   "outputs": [],
   "source": [
    "spark.stop()"
   ]
  },
  {
   "cell_type": "markdown",
   "metadata": {},
   "source": [
    "# Q2"
   ]
  },
  {
   "cell_type": "markdown",
   "metadata": {},
   "source": [
    "### (1)"
   ]
  },
  {
   "cell_type": "code",
   "execution_count": 130,
   "metadata": {},
   "outputs": [],
   "source": [
    "spark = SparkSession.builder.config('spark.ui.port', 64050).appName(\"ass1_q2\").getOrCreate()"
   ]
  },
  {
   "cell_type": "code",
   "execution_count": 131,
   "metadata": {},
   "outputs": [
    {
     "name": "stderr",
     "output_type": "stream",
     "text": [
      "                                                                                \r"
     ]
    },
    {
     "name": "stdout",
     "output_type": "stream",
     "text": [
      "+--------------------+-----+----------+-----------+------------+----------+--------+------------+-----------+------+--------+--------------------+--------------------+---------------------+---------------------+-----------------+---------------+-----------------+---------------+-----------------+---------------+--------------------+-----------------------+--------------------+-----------------------+--------------------+-----------------------+--------------------+-----------------------+--------------------+-----------------------+--------------------+-----------------------+--------------------+--------------------+--------------------+--------+--------------------+-----------------+---------+-------+--------------------+--------------------+--------------------+----------+--------------------+-----------+--------------------+---------------+-------------+------------------+-------+-------+-------+-------------+-------+-------------+----------+---------+---------+----------+----------+----------+----------------+--------------+----------------+--------------+----------------+--------------+----------------+--------------+----------------+--------------+----------------+--------------+----------+--------+----------+--------+----------+--------+----------+--------+----------+--------+----------+--------+----------+--------+---+----------+---+----------+--------------------+----------+--------------------+-------------+----------+----------+----------+----------+----------+----------+----------+-----------+-----------+-----------+-----------+-----------+-----------+-----------+-----------+-----------+-----------+-----------+-----------+-----------+-----------+-----------+------------+--------------------+-----------+-----------+-----------+-----------+-----------+-----------+------------+--------------------+-----------+-----------+-----------+-----------+-----------+-----------+-----------+-----------+-----------+-----------+-----------+-----------+-----------+-----------+-----------+------------+--------------------+-----------+------------+--------------------+-----------+-----------+-----------+-----------+-----------+-----------+-----------+-----------+-----------+-----------+-----------+-----------+-----------+-----------+-----------+-----------+-----------+-----------+-----------+-----------+-----------+-----------+-----------+-----------+-----------+-----------+-----------+-----------+-----------+-----------+------------+------------+------------+------------+-------------+--------------------+------------+------------+------------+------------+------------+------------+------------+------------+------------+-------------+--------------------+------------+------------+------------+------------+------------+------------+------------+------------+---------------+--------------------+\n",
      "|            sequence|locus|stop_codon|vj_in_frame|v_frameshift|productive|rev_comp|complete_vdj|     v_call|d_call|  j_call|  sequence_alignment|  germline_alignment|sequence_alignment_aa|germline_alignment_aa|v_alignment_start|v_alignment_end|d_alignment_start|d_alignment_end|j_alignment_start|j_alignment_end|v_sequence_alignment|v_sequence_alignment_aa|v_germline_alignment|v_germline_alignment_aa|d_sequence_alignment|d_sequence_alignment_aa|d_germline_alignment|d_germline_alignment_aa|j_sequence_alignment|j_sequence_alignment_aa|j_germline_alignment|j_germline_alignment_aa|                fwr1|             fwr1_aa|                cdr1| cdr1_aa|                fwr2|          fwr2_aa|     cdr2|cdr2_aa|                fwr3|             fwr3_aa|                fwr4|   fwr4_aa|                cdr3|    cdr3_aa|            junction|junction_length|  junction_aa|junction_aa_length|v_score|d_score|j_score|      v_cigar|d_cigar|      j_cigar| v_support|d_support|j_support|v_identity|d_identity|j_identity|v_sequence_start|v_sequence_end|v_germline_start|v_germline_end|d_sequence_start|d_sequence_end|d_germline_start|d_germline_end|j_sequence_start|j_sequence_end|j_germline_start|j_germline_end|fwr1_start|fwr1_end|cdr1_start|cdr1_end|fwr2_start|fwr2_end|cdr2_start|cdr2_end|fwr3_start|fwr3_end|fwr4_start|fwr4_end|cdr3_start|cdr3_end|np1|np1_length|np2|np2_length|            c_region|Redundancy|    ANARCI_numbering|ANARCI_status|       _98|       _99|      _100|      _101|      _102|      _103|      _104|       _105|       _106|       _107|       _108|       _109|       _110|       _111|       _112|       _113|       _114|       _115|       _116|       _117|       _118|       _119|        _120|                _121|       _122|       _123|       _124|       _125|       _126|       _127|        _128|                _129|       _130|       _131|       _132|       _133|       _134|       _135|       _136|       _137|       _138|       _139|       _140|       _141|       _142|       _143|       _144|        _145|                _146|       _147|        _148|                _149|       _150|       _151|       _152|       _153|       _154|       _155|       _156|       _157|       _158|       _159|       _160|       _161|       _162|       _163|       _164|       _165|       _166|       _167|       _168|       _169|       _170|       _171|       _172|       _173|       _174|       _175|       _176|       _177|       _178|       _179|        _180|        _181|        _182|        _183|         _184|                _185|        _186|        _187|        _188|        _189|        _190|        _191|        _192|        _193|        _194|         _195|                _196|        _197|        _198|        _199|        _200|        _201|        _202|        _203|        _204|           _205|                _206|\n",
      "+--------------------+-----+----------+-----------+------------+----------+--------+------------+-----------+------+--------+--------------------+--------------------+---------------------+---------------------+-----------------+---------------+-----------------+---------------+-----------------+---------------+--------------------+-----------------------+--------------------+-----------------------+--------------------+-----------------------+--------------------+-----------------------+--------------------+-----------------------+--------------------+-----------------------+--------------------+--------------------+--------------------+--------+--------------------+-----------------+---------+-------+--------------------+--------------------+--------------------+----------+--------------------+-----------+--------------------+---------------+-------------+------------------+-------+-------+-------+-------------+-------+-------------+----------+---------+---------+----------+----------+----------+----------------+--------------+----------------+--------------+----------------+--------------+----------------+--------------+----------------+--------------+----------------+--------------+----------+--------+----------+--------+----------+--------+----------+--------+----------+--------+----------+--------+----------+--------+---+----------+---+----------+--------------------+----------+--------------------+-------------+----------+----------+----------+----------+----------+----------+----------+-----------+-----------+-----------+-----------+-----------+-----------+-----------+-----------+-----------+-----------+-----------+-----------+-----------+-----------+-----------+------------+--------------------+-----------+-----------+-----------+-----------+-----------+-----------+------------+--------------------+-----------+-----------+-----------+-----------+-----------+-----------+-----------+-----------+-----------+-----------+-----------+-----------+-----------+-----------+-----------+------------+--------------------+-----------+------------+--------------------+-----------+-----------+-----------+-----------+-----------+-----------+-----------+-----------+-----------+-----------+-----------+-----------+-----------+-----------+-----------+-----------+-----------+-----------+-----------+-----------+-----------+-----------+-----------+-----------+-----------+-----------+-----------+-----------+-----------+-----------+------------+------------+------------+------------+-------------+--------------------+------------+------------+------------+------------+------------+------------+------------+------------+------------+-------------+--------------------+------------+------------+------------+------------+------------+------------+------------+------------+---------------+--------------------+\n",
      "|TCGCAGACCCTCTCACT...|    L|         F|          T|           F|         T|       F|           T|IGLV1-44*01|      |IGLJ3*02|CAGTCTGTGCTGACTCA...|CAGTCTGTGCTGACTCA...| QSVLTQPPSASGTPGQR...| QSVLTQPPSASGTPGQR...|              1.0|          294.0|                 |               |            295.0|          331.0|CAGTCTGTGCTGACTCA...|   QSVLTQPPSASGTPGQR...|CAGTCTGTGCTGACTCA...|   QSVLTQPPSASGTPGQR...|                    |                       |                    |                       |TGGGTGGTCGGCGGAGG...|           WVVGGGTKLTVL|TGGGTGTTCGGCGGAGG...|           WVFGGGTKLTVL|CAGTCTGTGCTGACTCA...|QSVLTQPPSASGTPGQR...|AGCTCCAACATCGGAAG...|SSNIGSDT|GTAAACTGGTTCCAGCA...|VNWFQQLPGSAPKLLIY|AGTAATAAT|    SNN|CAGCGGCCCTCAGGGGT...|QRPSGVPDRFSGSKSGT...|GTCGGCGGAGGGACCAA...|VGGGTKLTVL|GCAGCATGGGATGACAG...|AAWDDSLNGWV|CGTGCAGCATGGGATGA...|           39.0|RAAWDDSLNGWVV|              13.0|447.456|       | 66.059|38S294M229S2N|       |332S1N37M192S|1.312e-127|         |7.106e-15|    98.639|          |    97.297|            39.0|         332.0|             1.0|         294.0|                |              |                |              |           333.0|         369.0|             2.0|          38.0|      39.0|   113.0|     114.0|   137.0|     138.0|   188.0|     189.0|   197.0|     198.0|   305.0|     339.0|   368.0|     306.0|   338.0|   |       0.0|   |          |GGCAGCCCAAGGCTGCC...|         1|\"{'fwl1': {'1 ': 'Q'|    '2 ': 'S'| '3 ': 'V'| '4 ': 'L'| '5 ': 'T'| '6 ': 'Q'| '7 ': 'P'| '8 ': 'P'| '9 ': 'S'| '11 ': 'A'| '12 ': 'S'| '13 ': 'G'| '14 ': 'T'| '15 ': 'P'| '16 ': 'G'| '17 ': 'Q'| '18 ': 'R'| '19 ': 'V'| '20 ': 'T'| '21 ': 'I'| '22 ': 'S'| '23 ': 'C'| '24 ': 'S'| '25 ': 'G'| '26 ': 'S'}| 'cdrl1': {'27 ':...| '28 ': 'S'| '29 ': 'N'| '30 ': 'I'| '35 ': 'G'| '36 ': 'S'| '37 ': 'D'| '38 ': 'T'}| 'fwl2': {'39 ': 'V'| '40 ': 'N'| '41 ': 'W'| '42 ': 'F'| '43 ': 'Q'| '44 ': 'Q'| '45 ': 'L'| '46 ': 'P'| '47 ': 'G'| '48 ': 'S'| '49 ': 'A'| '50 ': 'P'| '51 ': 'K'| '52 ': 'L'| '53 ': 'L'| '54 ': 'I'| '55 ': 'Y'}| 'cdrl2': {'56 ':...| '57 ': 'N'| '65 ': 'N'}| 'fwl3': {'66 ': 'Q'| '67 ': 'R'| '68 ': 'P'| '69 ': 'S'| '70 ': 'G'| '71 ': 'V'| '72 ': 'P'| '74 ': 'D'| '75 ': 'R'| '76 ': 'F'| '77 ': 'S'| '78 ': 'G'| '79 ': 'S'| '80 ': 'K'| '83 ': 'S'| '84 ': 'G'| '85 ': 'T'| '86 ': 'S'| '87 ': 'A'| '88 ': 'S'| '89 ': 'L'| '90 ': 'A'| '91 ': 'I'| '92 ': 'S'| '93 ': 'G'| '94 ': 'L'| '95 ': 'Q'| '96 ': 'S'| '97 ': 'E'| '98 ': 'D'| '99 ': 'E'| '100 ': 'A'| '101 ': 'D'| '102 ': 'Y'| '103 ': 'Y'| '104 ': 'R'}| 'cdrl3': {'105 '...| '106 ': 'A'| '107 ': 'W'| '108 ': 'D'| '109 ': 'D'| '110 ': 'S'| '113 ': 'L'| '114 ': 'N'| '115 ': 'G'| '116 ': 'W'| '117 ': 'V'}| 'fwl4': {'118 ':...| '119 ': 'G'| '120 ': 'G'| '121 ': 'G'| '122 ': 'T'| '123 ': 'K'| '124 ': 'L'| '125 ': 'T'| '126 ': 'V'| '127 ': 'L'}}\"||||Missing Conser...|\n",
      "+--------------------+-----+----------+-----------+------------+----------+--------+------------+-----------+------+--------+--------------------+--------------------+---------------------+---------------------+-----------------+---------------+-----------------+---------------+-----------------+---------------+--------------------+-----------------------+--------------------+-----------------------+--------------------+-----------------------+--------------------+-----------------------+--------------------+-----------------------+--------------------+-----------------------+--------------------+--------------------+--------------------+--------+--------------------+-----------------+---------+-------+--------------------+--------------------+--------------------+----------+--------------------+-----------+--------------------+---------------+-------------+------------------+-------+-------+-------+-------------+-------+-------------+----------+---------+---------+----------+----------+----------+----------------+--------------+----------------+--------------+----------------+--------------+----------------+--------------+----------------+--------------+----------------+--------------+----------+--------+----------+--------+----------+--------+----------+--------+----------+--------+----------+--------+----------+--------+---+----------+---+----------+--------------------+----------+--------------------+-------------+----------+----------+----------+----------+----------+----------+----------+-----------+-----------+-----------+-----------+-----------+-----------+-----------+-----------+-----------+-----------+-----------+-----------+-----------+-----------+-----------+------------+--------------------+-----------+-----------+-----------+-----------+-----------+-----------+------------+--------------------+-----------+-----------+-----------+-----------+-----------+-----------+-----------+-----------+-----------+-----------+-----------+-----------+-----------+-----------+-----------+------------+--------------------+-----------+------------+--------------------+-----------+-----------+-----------+-----------+-----------+-----------+-----------+-----------+-----------+-----------+-----------+-----------+-----------+-----------+-----------+-----------+-----------+-----------+-----------+-----------+-----------+-----------+-----------+-----------+-----------+-----------+-----------+-----------+-----------+-----------+------------+------------+------------+------------+-------------+--------------------+------------+------------+------------+------------+------------+------------+------------+------------+------------+-------------+--------------------+------------+------------+------------+------------+------------+------------+------------+------------+---------------+--------------------+\n",
      "\n"
     ]
    }
   ],
   "source": [
    "df = spark.read.text(\"data/Q2_data/SRR12326717_1_Light_Bulk.csv\")\n",
    "\n",
    "col_name = (df.tail(2)[0][\"value\"]).split(\",\")\n",
    "data = [df.tail(1)[0][\"value\"].split(\",\")]\n",
    "df1 = spark.createDataFrame(data,col_name)\n",
    "df1.show()"
   ]
  },
  {
   "cell_type": "markdown",
   "metadata": {},
   "source": [
    "it is not useful, let's change the method"
   ]
  },
  {
   "cell_type": "code",
   "execution_count": 132,
   "metadata": {},
   "outputs": [
    {
     "data": {
      "text/plain": [
       "87508"
      ]
     },
     "execution_count": 132,
     "metadata": {},
     "output_type": "execute_result"
    }
   ],
   "source": [
    "import os\n",
    "csv_list = [p for p in os.listdir(path = \"data/Q2_data\") if p.endswith(\".csv\")]\n",
    "\n",
    "# 读取第一个 CSV 文件来初始化 DataFrame\n",
    "df = spark.read.format(\"csv\").option(\"header\",\"True\").option(\"comment\",\"\\\"\").load(f\"data/Q2_data/{csv_list[0]}\")\n",
    "\n",
    "# 从第二个文件开始，读取每一个 CSV 文件并进行合并\n",
    "for i in csv_list[1:]:\n",
    "    temp_df = spark.read.format(\"csv\").option(\"header\",\"True\").option(\"comment\",\"\\\"\").load(f\"data/Q2_data/{i}\")\n",
    "    df = df.union(temp_df)\n",
    "\n",
    "df.count()"
   ]
  },
  {
   "cell_type": "code",
   "execution_count": 133,
   "metadata": {},
   "outputs": [
    {
     "name": "stdout",
     "output_type": "stream",
     "text": [
      "+---------------------+---------+-------+------------+\n",
      "|sequence_alignment_aa|  cdr1_aa|cdr2_aa|     cdr3_aa|\n",
      "+---------------------+---------+-------+------------+\n",
      "| QSVLTQPPSVSGTPGQR...| DSNIGNNF|    KTS| AAWDDPLNAVL|\n",
      "| GVPDRFSGSTSGTSASL...|     NULL|   NULL|QSFDNSLGGFYV|\n",
      "| QSALTQPPSASGTPGQR...| RSNIGINT|    SND| DAWDDNLNGPV|\n",
      "| QSALTQPASMSGSPGQS...|SSDVGASNH|    EVS|  YSYAVGVTFV|\n",
      "| TLSLTCGSSTGAVHSGY...|TGAVHSGYY|    STD|LLYFGGIQPLWV|\n",
      "+---------------------+---------+-------+------------+\n",
      "only showing top 5 rows\n",
      "\n"
     ]
    },
    {
     "data": {
      "text/plain": [
       "17156"
      ]
     },
     "execution_count": 133,
     "metadata": {},
     "output_type": "execute_result"
    }
   ],
   "source": [
    "df_remove = df.select(col(\"sequence_alignment_aa\"),col(\"cdr1_aa\"),col(\"cdr2_aa\"),col(\"cdr3_aa\")).where((length(col(\"cdr3_aa\"))>=10) &  (length(col(\"cdr3_aa\"))<=100 ))\n",
    "df_remove.show(5)\n",
    "df_remove.count()"
   ]
  },
  {
   "cell_type": "code",
   "execution_count": 134,
   "metadata": {},
   "outputs": [
    {
     "name": "stderr",
     "output_type": "stream",
     "text": [
      "                                                                                \r"
     ]
    }
   ],
   "source": [
    "df_remove.coalesce(1).write.format(\"csv\").mode(\"overwrite\").save(\"output/output_data/q2_pyspark.csv\")"
   ]
  },
  {
   "cell_type": "code",
   "execution_count": 135,
   "metadata": {},
   "outputs": [],
   "source": [
    "spark.stop()"
   ]
  },
  {
   "cell_type": "markdown",
   "metadata": {},
   "source": [
    "# Q(3)"
   ]
  },
  {
   "cell_type": "markdown",
   "metadata": {},
   "source": [
    "``` bash\n",
    "#!/bin/bash\n",
    "\n",
    "output_file=\"output/output_data/q2(2)_sh.csv\"\n",
    "\n",
    "# 如果输出文件已存在，则删除它\n",
    "if [ -f $output_file ]; then\n",
    "    rm $output_file\n",
    "fi\n",
    "\n",
    "# 获取 CSV 文件列表\n",
    "csv_list=$(ls data/Q2_data/*.csv)\n",
    "\n",
    "# 从每个 CSV 文件中读取内容（不包括头部），并追加到结果文件\n",
    "for file in $csv_list\n",
    "do\n",
    "    # 使用 awk 提取需要的列，然后使用 grep 删除 cdr3_aa 长度小于 10 或大于 100 的行\n",
    "    awk -F, 'NR>2 {if (length($47)>=10 && length($47)<=100) print $14\",\"$37\",\"$41\",\"$47}' $file >> temp.csv\n",
    "done\n",
    "\n",
    "# 提取第一个文件的标题行(第二行)，并写入最终的 CSV 文件\n",
    "sed -n '2p' $(echo $csv_list | awk '{print $1}') | awk -F, '{print $14\",\"$37\",\"$41\",\"$47}' > $output_file\n",
    "\n",
    "# 将临时文件的内容追加到最终的 CSV 文件，并删除临时文件\n",
    "cat temp.csv >> $output_file\n",
    "rm temp.csv\n",
    "\n",
    "wc $output_file\n",
    "```\n",
    "\n"
   ]
  },
  {
   "cell_type": "markdown",
   "metadata": {},
   "source": [
    "# Q(4)"
   ]
  },
  {
   "cell_type": "markdown",
   "metadata": {},
   "source": [
    "``` bash\n",
    "#!/bin/bash\n",
    "\n",
    "# mkdir \"output/output_data/q2(3)\"\n",
    "\n",
    "# 定义输出文件路径\n",
    "output_file=\"output/output_data/q2(3)_sh.csv\"\n",
    "\n",
    "# 如果输出文件已存在，则删除它\n",
    "if [ -f $output_file ]; then\n",
    "    rm $output_file\n",
    "fi\n",
    "\n",
    "# 指定需要分割的大文件\n",
    "large_file=\"data/Q2_data/SRR12326775_1_Light_Bulk.csv\"\n",
    "\n",
    "# 这个命令首先会使用 tail -n +3 命令从原始文件的第三行开始，将所有行输出到一个名为 temp.csv 的临时文件中。然后，它会使用 split 命令将这个临时文件分割为8个部分，每个部分的文件名都以 chunk 开头。最后，它删除临时文件 temp.csv\n",
    "tail -n +3 $large_file > temp.csv\n",
    "split -n l/8 -d --additional-suffix=.csv temp.csv chunk\n",
    "rm temp.csv\n",
    "\n",
    "\n",
    "chunk_list=$(ls chunk*.csv)\n",
    "for chunk in $chunk_list; do\n",
    "    file_name=${chunk:5}\n",
    "    awk -F, 'NR>0 {if (length($47)>=10 && length($47)<=100) print $14\",\"$37\",\"$41\",\"$47}' $chunk > temp${file_name}.csv &\n",
    "done\n",
    "\n",
    "wait\n",
    "\n",
    "# 提取第一个文件的标题行(第二行)，并写入最终的 CSV 文件\n",
    "sed -n '2p' $large_file | awk -F, '{print $14\",\"$37\",\"$41\",\"$47}' > $output_file\n",
    "\n",
    "# 将临时文件的内容追加到最终的 CSV 文件\n",
    "cat temp*.csv >> $output_file\n",
    "\n",
    "# 删除临时文件和文件块\n",
    "rm chunk*.csv temp*.csv\n",
    "\n",
    "# 显示输出文件的行数、字数和字符数\n",
    "wc $output_file\n",
    "\n",
    "```"
   ]
  }
 ],
 "metadata": {
  "kernelspec": {
   "display_name": "sp",
   "language": "python",
   "name": "python3"
  },
  "language_info": {
   "codemirror_mode": {
    "name": "ipython",
    "version": 3
   },
   "file_extension": ".py",
   "mimetype": "text/x-python",
   "name": "python",
   "nbconvert_exporter": "python",
   "pygments_lexer": "ipython3",
   "version": "3.11.8"
  }
 },
 "nbformat": 4,
 "nbformat_minor": 2
}
