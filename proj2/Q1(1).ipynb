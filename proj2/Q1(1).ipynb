{
 "cells": [
  {
   "cell_type": "markdown",
   "metadata": {},
   "source": [
    "# Preparation"
   ]
  },
  {
   "cell_type": "code",
   "execution_count": 1,
   "metadata": {},
   "outputs": [],
   "source": [
    "import numpy as np\n",
    "import pandas as pd\n",
    "import matplotlib.pyplot as plt\n",
    "import seaborn as sns\n",
    "\n",
    "from pyspark.sql import SparkSession\n",
    "from pyspark.sql import Row\n",
    "# from pyspark.sql.types import StringType, StructType, StructField\n",
    "from pyspark.sql.types import *\n",
    "# import pyspark.sql.functions as F\n",
    "from pyspark.sql.functions import *\n",
    "\n",
    "import warnings\n",
    "warnings.filterwarnings('ignore')"
   ]
  },
  {
   "cell_type": "code",
   "execution_count": 2,
   "metadata": {},
   "outputs": [
    {
     "name": "stderr",
     "output_type": "stream",
     "text": [
      "Setting default log level to \"WARN\".\n",
      "To adjust logging level use sc.setLogLevel(newLevel). For SparkR, use setLogLevel(newLevel).\n",
      "24/06/01 15:04:12 WARN NativeCodeLoader: Unable to load native-hadoop library for your platform... using builtin-java classes where applicable\n",
      "24/06/01 15:04:14 WARN Utils: Service 'SparkUI' could not bind on port 64050. Attempting port 64051.\n"
     ]
    }
   ],
   "source": [
    "spark = SparkSession.builder.appName(\"proj2_q1\").getOrCreate()"
   ]
  },
  {
   "cell_type": "markdown",
   "metadata": {},
   "source": [
    "# Q1"
   ]
  },
  {
   "cell_type": "code",
   "execution_count": 5,
   "metadata": {},
   "outputs": [
    {
     "name": "stdout",
     "output_type": "stream",
     "text": [
      "+--------------------+-------+--------------------+--------------------+--------------------+\n",
      "|                  id|  title|             context|            question|             answers|\n",
      "+--------------------+-------+--------------------+--------------------+--------------------+\n",
      "|56be85543aeaaa140...|Beyoncé|Beyoncé Giselle K...|When did Beyonce ...|{[in the late 199...|\n",
      "|56be85543aeaaa140...|Beyoncé|Beyoncé Giselle K...|What areas did Be...|{[singing and dan...|\n",
      "|56be85543aeaaa140...|Beyoncé|Beyoncé Giselle K...|When did Beyonce ...|     {[2003], [526]}|\n",
      "|56bf6b0f3aeaaa140...|Beyoncé|Beyoncé Giselle K...|In what city and ...|{[Houston, Texas]...|\n",
      "|56bf6b0f3aeaaa140...|Beyoncé|Beyoncé Giselle K...|In which decade d...|{[late 1990s], [2...|\n",
      "+--------------------+-------+--------------------+--------------------+--------------------+\n",
      "only showing top 5 rows\n",
      "\n"
     ]
    }
   ],
   "source": [
    "original_training = spark.read.format(\"parquet\").load(\"data/squad_v2/train-00000-of-00001.parquet\")\n",
    "original_training.show(5)"
   ]
  },
  {
   "cell_type": "code",
   "execution_count": null,
   "metadata": {},
   "outputs": [],
   "source": []
  }
 ],
 "metadata": {
  "kernelspec": {
   "display_name": "sp",
   "language": "python",
   "name": "python3"
  },
  "language_info": {
   "codemirror_mode": {
    "name": "ipython",
    "version": 3
   },
   "file_extension": ".py",
   "mimetype": "text/x-python",
   "name": "python",
   "nbconvert_exporter": "python",
   "pygments_lexer": "ipython3",
   "version": "3.11.8"
  }
 },
 "nbformat": 4,
 "nbformat_minor": 2
}
