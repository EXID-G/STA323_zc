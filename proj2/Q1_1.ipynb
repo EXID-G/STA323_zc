{
 "cells": [
  {
   "cell_type": "markdown",
   "metadata": {},
   "source": [
    "# Preparation"
   ]
  },
  {
   "cell_type": "code",
   "execution_count": 18,
   "metadata": {},
   "outputs": [],
   "source": [
    "import numpy as np\n",
    "import pandas as pd\n",
    "import matplotlib.pyplot as plt\n",
    "import seaborn as sns\n",
    "\n",
    "from pyspark.sql import SparkSession\n",
    "from pyspark.sql import Row\n",
    "# from pyspark.sql.types import StringType, StructType, StructField\n",
    "from pyspark.sql.types import *\n",
    "# import pyspark.sql.functions as F\n",
    "from pyspark.sql.functions import *\n",
    "\n",
    "import warnings\n",
    "warnings.filterwarnings('ignore')"
   ]
  },
  {
   "cell_type": "code",
   "execution_count": 19,
   "metadata": {},
   "outputs": [],
   "source": [
    "spark = SparkSession.builder.appName(\"proj2_q1\").config(\"spark.executor.memory\", \"8g\").config(\"spark.driver.memory\", \"8g\").getOrCreate()"
   ]
  },
  {
   "cell_type": "markdown",
   "metadata": {},
   "source": [
    "# Q1"
   ]
  },
  {
   "cell_type": "markdown",
   "metadata": {},
   "source": [
    "## read and filter"
   ]
  },
  {
   "cell_type": "code",
   "execution_count": 20,
   "metadata": {},
   "outputs": [
    {
     "data": {
      "text/plain": [
       "Row(id='56ddde6b9a695914005b9628', title='Normans', context='The Normans (Norman: Nourmands; French: Normands; Latin: Normanni) were the people who in the 10th and 11th centuries gave their name to Normandy, a region in France. They were descended from Norse (\"Norman\" comes from \"Norseman\") raiders and pirates from Denmark, Iceland and Norway who, under their leader Rollo, agreed to swear fealty to King Charles III of West Francia. Through generations of assimilation and mixing with the native Frankish and Roman-Gaulish populations, their descendants would gradually merge with the Carolingian-based cultures of West Francia. The distinct cultural and ethnic identity of the Normans emerged initially in the first half of the 10th century, and it continued to evolve over the succeeding centuries.', question='In what country is Normandy located?', answers=Row(text=['France', 'France', 'France', 'France'], answer_start=[159, 159, 159, 159]))"
      ]
     },
     "execution_count": 20,
     "metadata": {},
     "output_type": "execute_result"
    }
   ],
   "source": [
    "test = spark.read.format(\"parquet\").load(\"data/squad_v2/validation-00000-of-00001.parquet\")\n",
    "test.take(1)[0]"
   ]
  },
  {
   "cell_type": "code",
   "execution_count": 21,
   "metadata": {},
   "outputs": [
    {
     "name": "stdout",
     "output_type": "stream",
     "text": [
      "+------------------------+-------+----------------------------------------------------------------------------------------------------------------------------------------------------------------------------------------------------------------------------------------------------------------------------------------------------------------------------------------------------------------------------------------------------------------------------------------------------------------------------------------------------------------------------------------------------------------------------------------------------------------------------------------------------------------------------------------------------------------------+----------------------------------------------------------------+------------------------------+\n",
      "|id                      |title  |context                                                                                                                                                                                                                                                                                                                                                                                                                                                                                                                                                                                                                                                                                                               |question                                                        |answers                       |\n",
      "+------------------------+-------+----------------------------------------------------------------------------------------------------------------------------------------------------------------------------------------------------------------------------------------------------------------------------------------------------------------------------------------------------------------------------------------------------------------------------------------------------------------------------------------------------------------------------------------------------------------------------------------------------------------------------------------------------------------------------------------------------------------------+----------------------------------------------------------------+------------------------------+\n",
      "|56be85543aeaaa14008c9063|Beyoncé|Beyoncé Giselle Knowles-Carter (/biːˈjɒnseɪ/ bee-YON-say) (born September 4, 1981) is an American singer, songwriter, record producer and actress. Born and raised in Houston, Texas, she performed in various singing and dancing competitions as a child, and rose to fame in the late 1990s as lead singer of R&B girl-group Destiny's Child. Managed by her father, Mathew Knowles, the group became one of the world's best-selling girl groups of all time. Their hiatus saw the release of Beyoncé's debut album, Dangerously in Love (2003), which established her as a solo artist worldwide, earned five Grammy Awards and featured the Billboard Hot 100 number-one singles \"Crazy in Love\" and \"Baby Boy\".|When did Beyonce start becoming popular?                        |{[in the late 1990s], [269]}  |\n",
      "|56be85543aeaaa14008c9065|Beyoncé|Beyoncé Giselle Knowles-Carter (/biːˈjɒnseɪ/ bee-YON-say) (born September 4, 1981) is an American singer, songwriter, record producer and actress. Born and raised in Houston, Texas, she performed in various singing and dancing competitions as a child, and rose to fame in the late 1990s as lead singer of R&B girl-group Destiny's Child. Managed by her father, Mathew Knowles, the group became one of the world's best-selling girl groups of all time. Their hiatus saw the release of Beyoncé's debut album, Dangerously in Love (2003), which established her as a solo artist worldwide, earned five Grammy Awards and featured the Billboard Hot 100 number-one singles \"Crazy in Love\" and \"Baby Boy\".|What areas did Beyonce compete in when she was growing up?      |{[singing and dancing], [207]}|\n",
      "|56be85543aeaaa14008c9066|Beyoncé|Beyoncé Giselle Knowles-Carter (/biːˈjɒnseɪ/ bee-YON-say) (born September 4, 1981) is an American singer, songwriter, record producer and actress. Born and raised in Houston, Texas, she performed in various singing and dancing competitions as a child, and rose to fame in the late 1990s as lead singer of R&B girl-group Destiny's Child. Managed by her father, Mathew Knowles, the group became one of the world's best-selling girl groups of all time. Their hiatus saw the release of Beyoncé's debut album, Dangerously in Love (2003), which established her as a solo artist worldwide, earned five Grammy Awards and featured the Billboard Hot 100 number-one singles \"Crazy in Love\" and \"Baby Boy\".|When did Beyonce leave Destiny's Child and become a solo singer?|{[2003], [526]}               |\n",
      "+------------------------+-------+----------------------------------------------------------------------------------------------------------------------------------------------------------------------------------------------------------------------------------------------------------------------------------------------------------------------------------------------------------------------------------------------------------------------------------------------------------------------------------------------------------------------------------------------------------------------------------------------------------------------------------------------------------------------------------------------------------------------+----------------------------------------------------------------+------------------------------+\n",
      "only showing top 3 rows\n",
      "\n"
     ]
    }
   ],
   "source": [
    "original_training = spark.read.format(\"parquet\").load(\"data/squad_v2/train-00000-of-00001.parquet\")\n",
    "original_training.show(3,truncate=False)"
   ]
  },
  {
   "cell_type": "code",
   "execution_count": 22,
   "metadata": {},
   "outputs": [
    {
     "name": "stdout",
     "output_type": "stream",
     "text": [
      "root\n",
      " |-- id: string (nullable = true)\n",
      " |-- title: string (nullable = true)\n",
      " |-- context: string (nullable = true)\n",
      " |-- question: string (nullable = true)\n",
      " |-- answers: struct (nullable = true)\n",
      " |    |-- text: array (nullable = true)\n",
      " |    |    |-- element: string (containsNull = true)\n",
      " |    |-- answer_start: array (nullable = true)\n",
      " |    |    |-- element: integer (containsNull = true)\n",
      "\n"
     ]
    }
   ],
   "source": [
    "original_training.printSchema()"
   ]
  },
  {
   "cell_type": "code",
   "execution_count": 23,
   "metadata": {},
   "outputs": [
    {
     "data": {
      "text/plain": [
       "130319"
      ]
     },
     "execution_count": 23,
     "metadata": {},
     "output_type": "execute_result"
    }
   ],
   "source": [
    "original_training.count()"
   ]
  },
  {
   "cell_type": "code",
   "execution_count": 24,
   "metadata": {},
   "outputs": [
    {
     "name": "stdout",
     "output_type": "stream",
     "text": [
      "+---------------------+\n",
      "|text                 |\n",
      "+---------------------+\n",
      "|[in the late 1990s]  |\n",
      "|[singing and dancing]|\n",
      "|[2003]               |\n",
      "|[Houston, Texas]     |\n",
      "|[late 1990s]         |\n",
      "|[Destiny's Child]    |\n",
      "|[Dangerously in Love]|\n",
      "|[Mathew Knowles]     |\n",
      "|[late 1990s]         |\n",
      "|[lead singer]        |\n",
      "+---------------------+\n",
      "only showing top 10 rows\n",
      "\n"
     ]
    }
   ],
   "source": [
    "original_training.select(\"answers.text\").show(10,truncate=False)"
   ]
  },
  {
   "cell_type": "markdown",
   "metadata": {},
   "source": [
    "The len of question should be checked as some questions are empty. Besides, some answers are empty as well, which can help LLM to train the ability of seeing if there's a real answer in the given content. Namely, the empty answer can relieve hallucinations in LLM.\n",
    "\n",
    "`answers.answer_start` is dropped as it is not useful for the task."
   ]
  },
  {
   "cell_type": "code",
   "execution_count": 25,
   "metadata": {},
   "outputs": [
    {
     "name": "stdout",
     "output_type": "stream",
     "text": [
      "+-----------+-----+\n",
      "|num_answers|count|\n",
      "+-----------+-----+\n",
      "|          1|86821|\n",
      "|          0|43498|\n",
      "+-----------+-----+\n",
      "\n",
      "+--------------------+----+\n",
      "|            question|text|\n",
      "+--------------------+----+\n",
      "|What category of ...|  []|\n",
      "|What consoles can...|  []|\n",
      "|When was Australi...|  []|\n",
      "|When could GameCu...|  []|\n",
      "|What year was the...|  []|\n",
      "+--------------------+----+\n",
      "only showing top 5 rows\n",
      "\n"
     ]
    }
   ],
   "source": [
    "original_training = original_training.withColumn(\"num_answers\", size(original_training[\"answers.text\"]))\n",
    "original_training.groupBy(\"num_answers\").count().show()\n",
    "\n",
    "# original_training_filtered_answer = original_training.filter(original_training.num_answers == 1)\n",
    "# original_training_filtered_answer.groupBy(\"num_answers\").count().show()\n",
    "original_training.filter(original_training.num_answers == 0).select(\"question\",\"answers.text\").show(5)"
   ]
  },
  {
   "cell_type": "code",
   "execution_count": 26,
   "metadata": {},
   "outputs": [
    {
     "name": "stdout",
     "output_type": "stream",
     "text": [
      "+------------+---------------+--------------------+--------------------+\n",
      "|    question|question_length|                text|             context|\n",
      "+------------+---------------+--------------------+--------------------+\n",
      "|           d|              1|           [the Gre]|The Hellenistic p...|\n",
      "|          dd|              2|          [Buddhism]|The Hellenistic p...|\n",
      "| What means |             11|           [Advaita]|Advaita literally...|\n",
      "|What is OAS?|             12|[Organization of ...|Further conventio...|\n",
      "|What is kef?|             12|[Armenian dance m...|The Armenian Geno...|\n",
      "|What is RNA?|             12|[a second type of...|The expression of...|\n",
      "|What is USB?|             12|      [a serial bus]|USB is a serial b...|\n",
      "|Himachal is?|             12|[multireligional,...|Himachal was one ...|\n",
      "|What is DIS?|             12|[a fusion of the ...|At the decision-m...|\n",
      "|What is IBS?|             12|[irritable bowel ...|Another possible ...|\n",
      "+------------+---------------+--------------------+--------------------+\n",
      "only showing top 10 rows\n",
      "\n"
     ]
    }
   ],
   "source": [
    "# original_training_filtered_answer.withColumn(\"question_length\",length(\"question\")).groupBy(\"question_length\").count().orderBy(\"question_length\").show(5)\n",
    "original_training.withColumn(\"question_length\",length(\"question\")).orderBy(\"question_length\").select(\"question\",\"question_length\",\"answers.text\", \"context\").show(10)"
   ]
  },
  {
   "cell_type": "code",
   "execution_count": 27,
   "metadata": {},
   "outputs": [
    {
     "data": {
      "text/plain": [
       "130317"
      ]
     },
     "execution_count": 27,
     "metadata": {},
     "output_type": "execute_result"
    }
   ],
   "source": [
    "training_filter = original_training.filter((col(\"question\") != \"d\") & (col(\"question\") != \"dd\"))\n",
    "training_filter.count()\n",
    "# training_filter.show()"
   ]
  },
  {
   "cell_type": "markdown",
   "metadata": {},
   "source": [
    "## concat two fields and split"
   ]
  },
  {
   "cell_type": "markdown",
   "metadata": {},
   "source": [
    "concat question and context"
   ]
  },
  {
   "cell_type": "code",
   "execution_count": 28,
   "metadata": {},
   "outputs": [],
   "source": [
    "test = test.withColumn(\"input\",concat(lit(\"question: \"), col(\"question\"), lit(\" context: \"), col(\"context\")))"
   ]
  },
  {
   "cell_type": "code",
   "execution_count": 29,
   "metadata": {},
   "outputs": [
    {
     "name": "stdout",
     "output_type": "stream",
     "text": [
      "+----------------------------------------------------------+----------------------------------------------------------------------------------------------------------------------------------------------------------------------------------------------------------------------------------------------------------------------------------------------------------------------------------------------------------------------------------------------------------------------------------------------------------------------------------------------------------------------------------------------------------------------------------------------------------------------------------------------------------------------------------------------------------------------------------------------------------------------------------------------------+\n",
      "|question                                                  |input                                                                                                                                                                                                                                                                                                                                                                                                                                                                                                                                                                                                                                                                                                                                                                                               |\n",
      "+----------------------------------------------------------+----------------------------------------------------------------------------------------------------------------------------------------------------------------------------------------------------------------------------------------------------------------------------------------------------------------------------------------------------------------------------------------------------------------------------------------------------------------------------------------------------------------------------------------------------------------------------------------------------------------------------------------------------------------------------------------------------------------------------------------------------------------------------------------------------+\n",
      "|When did Beyonce start becoming popular?                  |question: When did Beyonce start becoming popular? context: Beyoncé Giselle Knowles-Carter (/biːˈjɒnseɪ/ bee-YON-say) (born September 4, 1981) is an American singer, songwriter, record producer and actress. Born and raised in Houston, Texas, she performed in various singing and dancing competitions as a child, and rose to fame in the late 1990s as lead singer of R&B girl-group Destiny's Child. Managed by her father, Mathew Knowles, the group became one of the world's best-selling girl groups of all time. Their hiatus saw the release of Beyoncé's debut album, Dangerously in Love (2003), which established her as a solo artist worldwide, earned five Grammy Awards and featured the Billboard Hot 100 number-one singles \"Crazy in Love\" and \"Baby Boy\".                  |\n",
      "|What areas did Beyonce compete in when she was growing up?|question: What areas did Beyonce compete in when she was growing up? context: Beyoncé Giselle Knowles-Carter (/biːˈjɒnseɪ/ bee-YON-say) (born September 4, 1981) is an American singer, songwriter, record producer and actress. Born and raised in Houston, Texas, she performed in various singing and dancing competitions as a child, and rose to fame in the late 1990s as lead singer of R&B girl-group Destiny's Child. Managed by her father, Mathew Knowles, the group became one of the world's best-selling girl groups of all time. Their hiatus saw the release of Beyoncé's debut album, Dangerously in Love (2003), which established her as a solo artist worldwide, earned five Grammy Awards and featured the Billboard Hot 100 number-one singles \"Crazy in Love\" and \"Baby Boy\".|\n",
      "+----------------------------------------------------------+----------------------------------------------------------------------------------------------------------------------------------------------------------------------------------------------------------------------------------------------------------------------------------------------------------------------------------------------------------------------------------------------------------------------------------------------------------------------------------------------------------------------------------------------------------------------------------------------------------------------------------------------------------------------------------------------------------------------------------------------------------------------------------------------------+\n",
      "only showing top 2 rows\n",
      "\n"
     ]
    }
   ],
   "source": [
    "training_filter = training_filter.withColumn(\"input\", concat(lit(\"question: \"), col(\"question\"), lit(\" context: \"), col(\"context\")))\n",
    "training_filter.select(\"question\", \"input\").show(2,truncate=False)"
   ]
  },
  {
   "cell_type": "markdown",
   "metadata": {},
   "source": [
    "split origin_train to train and validation: `randomsample()` can not designate the specific number of samples to be selected. Also, `sample()` is not used as it can not promise to choose the number we give. Hence, to select 5000 samples exactly, `shuffle()` can be used  to shuffle the data and then select the first 5000 samples."
   ]
  },
  {
   "cell_type": "code",
   "execution_count": 30,
   "metadata": {},
   "outputs": [],
   "source": [
    "training_filter = training_filter.orderBy(rand(seed = 42))\n",
    "training_filter.cache()\n",
    "validation  = training_filter.limit(5000)\n",
    "train = training_filter.exceptAll(validation)"
   ]
  },
  {
   "cell_type": "code",
   "execution_count": 31,
   "metadata": {},
   "outputs": [
    {
     "name": "stderr",
     "output_type": "stream",
     "text": [
      "                                                                                \r"
     ]
    },
    {
     "name": "stdout",
     "output_type": "stream",
     "text": [
      "125317\n",
      "5000\n"
     ]
    }
   ],
   "source": [
    "print(train.count())\n",
    "print(validation.count())"
   ]
  },
  {
   "cell_type": "code",
   "execution_count": 39,
   "metadata": {},
   "outputs": [
    {
     "name": "stderr",
     "output_type": "stream",
     "text": [
      "                                                                                \r"
     ]
    }
   ],
   "source": [
    "# test.toPandas().to_csv(\"data/mydata/mytest.csv\")\n",
    "# train.toPandas().to_csv(\"data/mydata/mytrain.csv\")\n",
    "# validation.toPandas().to_csv(\"data/mydata/myvalidation.csv\")"
   ]
  },
  {
   "cell_type": "code",
   "execution_count": 40,
   "metadata": {},
   "outputs": [
    {
     "name": "stderr",
     "output_type": "stream",
     "text": [
      "                                                                                \r"
     ]
    }
   ],
   "source": [
    "# test.toPandas().head(20).to_csv(\"data/mydata/mytest_20.csv\")\n",
    "# train.toPandas().head(20).to_csv(\"data/mydata/mytrain_20.csv\")\n",
    "# validation.toPandas().head(20).to_csv(\"data/mydata/myvalidation_20.csv\")"
   ]
  },
  {
   "cell_type": "markdown",
   "metadata": {},
   "source": [
    "# Q2"
   ]
  },
  {
   "cell_type": "code",
   "execution_count": 32,
   "metadata": {},
   "outputs": [],
   "source": [
    "# import os\n",
    "\n",
    "# import numpy as np\n",
    "# import evaluate\n",
    "# from datasets import load_dataset\n",
    "# from transformers import (\n",
    "#     Trainer,\n",
    "#     TrainingArguments,\n",
    "#     AutoTokenizer,\n",
    "#     T5Tokenizer, \n",
    "#     T5ForConditionalGeneration\n",
    "# )\n",
    "\n",
    "# import ray.train.huggingface.transformers\n",
    "# from ray.train import ScalingConfig\n",
    "# from ray.train.torch import TorchTrainer\n"
   ]
  },
  {
   "cell_type": "code",
   "execution_count": 33,
   "metadata": {},
   "outputs": [],
   "source": [
    "\n",
    "# # 加载数据集\n",
    "# # 加载模型和分词器\n",
    "# model_name = \"./flan-t5-small\"\n",
    "# tokenizer = AutoTokenizer.from_pretrained(model_name)\n",
    "# model = T5ForConditionalGeneration.from_pretrained(model_name)"
   ]
  },
  {
   "cell_type": "code",
   "execution_count": 34,
   "metadata": {},
   "outputs": [],
   "source": [
    "# input_text = \"Where is the capital of China?\"\n",
    "# input_ids = tokenizer(input_text, return_tensors=\"pt\").input_ids\n",
    "\n",
    "# outputs = model.generate(input_ids)\n",
    "# print(tokenizer.decode(outputs[0]))"
   ]
  },
  {
   "cell_type": "code",
   "execution_count": 35,
   "metadata": {},
   "outputs": [],
   "source": [
    "# # 数据预处理\n",
    "# def preprocess_function(examples):\n",
    "#     inputs = [q.strip() for q in examples['question']]\n",
    "#     targets = [a['text'][0].strip() for a in examples['answers']]\n",
    "#     model_inputs = tokenizer(inputs, max_length=512, truncation=True)\n",
    "#     # 设置模型的目标\n",
    "#     with tokenizer.as_target_tokenizer():\n",
    "#         labels = tokenizer(targets, max_length=512, truncation=True)\n",
    "#     model_inputs['labels'] = labels['input_ids']\n",
    "#     return model_inputs\n",
    "# tokenized_datasets = dataset.map(preprocess_function, batched=True)\n"
   ]
  },
  {
   "cell_type": "code",
   "execution_count": 36,
   "metadata": {},
   "outputs": [],
   "source": [
    "# # 设置训练参数\n",
    "# training_args = TrainingArguments(\n",
    "#     output_dir='./results',\n",
    "#     evaluation_strategy='epoch',\n",
    "#     learning_rate=2e-5,\n",
    "#     per_device_train_batch_size=4,\n",
    "#     per_device_eval_batch_size=4,\n",
    "#     num_train_epochs=3,\n",
    "#     weight_decay=0.01,\n",
    "#     save_total_limit=1,\n",
    "# )\n",
    "# # 定义 Trainer\n",
    "# trainer = Trainer(\n",
    "#     model=model,\n",
    "#     args=training_args,\n",
    "#     train_dataset=tokenized_datasets['train'],\n",
    "#     eval_dataset=tokenized_datasets['validation'],\n",
    "# )\n",
    "# # 训练模型\n",
    "# trainer.train()\n",
    "# # 保存模型\n",
    "# trainer.save_model('./checkpoint')\n",
    "# # 评估模型\n",
    "# eval_results = trainer.evaluate()\n",
    "# print(f\"Evaluation results: {eval_results}\")\n"
   ]
  }
 ],
 "metadata": {
  "kernelspec": {
   "display_name": "sp",
   "language": "python",
   "name": "python3"
  },
  "language_info": {
   "codemirror_mode": {
    "name": "ipython",
    "version": 3
   },
   "file_extension": ".py",
   "mimetype": "text/x-python",
   "name": "python",
   "nbconvert_exporter": "python",
   "pygments_lexer": "ipython3",
   "version": "3.11.8"
  }
 },
 "nbformat": 4,
 "nbformat_minor": 2
}
