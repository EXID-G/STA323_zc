{
 "cells": [
  {
   "cell_type": "markdown",
   "metadata": {},
   "source": [
    "# Lab 8: Exercises for Spark Streaming"
   ]
  },
  {
   "cell_type": "code",
   "execution_count": null,
   "metadata": {},
   "outputs": [],
   "source": [
    "from pyspark.sql import SparkSession\n",
    "from pyspark.context import SparkContext \n",
    "import pyspark.sql.functions as F\n",
    "from pyspark import SparkConf\n",
    "\n",
    "import os \n",
    "os.environ['PYSPARK_PYTHON'] = \"/root/anaconda3/bin/python\"\n",
    "\n",
    "# spark.stop()  \n",
    "## pip install kafka-python\n",
    "\n",
    "spark = SparkSession.builder\\\n",
    "  .config(\n",
    "    \"spark.jars\", \n",
    "    \"/shareddata/lab08/kafka-clients-3.5.0.jar,/shareddata/lab08/spark-sql-kafka-0-10_2.12-3.5.0.jar, \\\n",
    "    /shareddata/lab08/spark-token-provider-kafka-0-10_2.12-3.5.0.jar, \\\n",
    "    /shareddata/lab08/commons-pool2-2.12.0.jar\") \\\n",
    "  .config(\"spark.executorEnv.PYSPARK_PYTHON\",\"/root/anaconda3/bin/python\") \\\n",
    "  .config(\"spark.executor.memory\", \"2g\") \\\n",
    "  .config(\"spark.driver.memory\", \"2g\") \\\n",
    "  .config(\"spark.log.level\", \"WARN\") \\\n",
    "  .appName(\"lab8_exercise\").getOrCreate()\n"
   ]
  },
  {
   "cell_type": "markdown",
   "metadata": {},
   "source": [
    "## Part A: Basic Spark Streaming Operations\n",
    "\n",
    "### (A-1): define data source\n",
    "\n",
    "Load streaming data from json files. "
   ]
  },
  {
   "cell_type": "code",
   "execution_count": null,
   "metadata": {},
   "outputs": [],
   "source": [
    "static = spark.read.json(\"/shareddata/data/activity-data/\")\n",
    "dataSchema = static.schema\n",
    "streaming = spark.readStream.schema(dataSchema).option(\"maxFilesPerTrigger\", 1).json(\"/shareddata/data/activity-data\")\n",
    "streaming.printSchema()"
   ]
  },
  {
   "cell_type": "markdown",
   "metadata": {},
   "source": [
    "### (A-2): Process data\n",
    "You can also try other operations on the data like filtering, etc."
   ]
  },
  {
   "cell_type": "code",
   "execution_count": null,
   "metadata": {},
   "outputs": [],
   "source": [
    "activityCounts = streaming.groupBy(\"gt\").count()"
   ]
  },
  {
   "cell_type": "markdown",
   "metadata": {},
   "source": [
    "### (A-3): Define data sink and trigger, start the streaming query"
   ]
  },
  {
   "cell_type": "code",
   "execution_count": null,
   "metadata": {},
   "outputs": [],
   "source": [
    "# activityQuery = activityCounts.writeStream.queryName(\"activity_counts\").format(\"console\").outputMode(\"update\").trigger(processingTime=\"2 seconds\").start()\n",
    "activityQuery = activityCounts.writeStream.queryName(\"activity_counts\").format(\"memory\").outputMode(\"update\").trigger(processingTime=\"2 seconds\").start()"
   ]
  },
  {
   "cell_type": "markdown",
   "metadata": {},
   "source": [
    "### (A-4) Display data from the Table of query_name `activity_counts`"
   ]
  },
  {
   "cell_type": "code",
   "execution_count": null,
   "metadata": {},
   "outputs": [],
   "source": [
    "from time import sleep\n",
    "for x in range(3):\n",
    "    spark.sql(\"SELECT * FROM activity_counts\").show()\n",
    "    sleep(2)"
   ]
  },
  {
   "cell_type": "markdown",
   "metadata": {},
   "source": [
    "### (A-5) Stop the streaming query"
   ]
  },
  {
   "cell_type": "code",
   "execution_count": null,
   "metadata": {},
   "outputs": [],
   "source": [
    "# activityQuery.stop()\n",
    "activityQuery.awaitTermination(10)"
   ]
  },
  {
   "cell_type": "markdown",
   "metadata": {},
   "source": [
    "## Part B: another example for Spark Streaming\n",
    "\n",
    "### Example 1: Simple Transform"
   ]
  },
  {
   "cell_type": "code",
   "execution_count": null,
   "metadata": {},
   "outputs": [],
   "source": [
    "\n",
    "simpleTransform = streaming.withColumn(\"stairs\", F.expr(\"gt like '%stairs%'\"))\\\n",
    "  .where(\"stairs\").where(\"gt is not null\")\\\n",
    "  .select(\"gt\", \"model\", \"arrival_time\", \"creation_time\")\n",
    "\n",
    "simpleTransform = simpleTransform.writeStream.queryName(\"simple_transform\").format(\"memory\").outputMode(\"append\")\n",
    "\n",
    "simpleTransform = simpleTransform.trigger(processingTime=\"2 seconds\").start()"
   ]
  },
  {
   "cell_type": "code",
   "execution_count": null,
   "metadata": {},
   "outputs": [],
   "source": [
    "spark.sql(\"SELECT * FROM simple_transform\").show()"
   ]
  },
  {
   "cell_type": "code",
   "execution_count": null,
   "metadata": {},
   "outputs": [],
   "source": [
    "simpleTransform.stop()"
   ]
  },
  {
   "cell_type": "markdown",
   "metadata": {},
   "source": [
    "### Example 2: Aggregate data "
   ]
  },
  {
   "cell_type": "code",
   "execution_count": null,
   "metadata": {},
   "outputs": [],
   "source": [
    "\n",
    "deviceModelStats = streaming.cube(\"gt\", \"model\").avg()\\\n",
    "  .drop(\"avg(Arrival_time)\")\\\n",
    "  .drop(\"avg(Creation_Time)\")\\\n",
    "  .drop(\"avg(Index)\")\\\n",
    "  .writeStream.queryName(\"device_counts\").format(\"memory\")\\\n",
    "  .outputMode(\"complete\")\\\n",
    "  .start()\n"
   ]
  },
  {
   "cell_type": "code",
   "execution_count": null,
   "metadata": {},
   "outputs": [],
   "source": [
    "spark.sql(\"SELECT * FROM device_counts\").show()"
   ]
  },
  {
   "cell_type": "code",
   "execution_count": null,
   "metadata": {},
   "outputs": [],
   "source": [
    "deviceModelStats.stop()"
   ]
  },
  {
   "cell_type": "markdown",
   "metadata": {},
   "source": [
    "### Example 3: Use socket source \n",
    "\n",
    "open a tmux window, then run the following command:\n",
    "\n",
    "* First install netcat package by `apt install netcat`\n",
    "* check the installation by `nc -h`\n",
    "* start a socket by `nc -lk 9999`\n",
    "\n",
    "Note that most ports are disabled. "
   ]
  },
  {
   "cell_type": "code",
   "execution_count": null,
   "metadata": {},
   "outputs": [],
   "source": [
    "from pyspark.sql import SparkSession\n",
    "from pyspark.context import SparkContext \n",
    "import pyspark.sql.functions as F\n",
    "\n",
    "spark = SparkSession \\\n",
    "    .builder \\\n",
    "    .appName(\"StructuredNetworkWordCount\") \\\n",
    "    .getOrCreate()\n",
    "\n",
    "# Create DataFrame representing the stream of input lines from connection to localhost:9999\n",
    "lines = spark.readStream.format(\"socket\") \\\n",
    "    .option(\"host\", \"localhost\").option(\"port\", 8888).load()\n",
    "\n",
    "# Split the lines into words\n",
    "words = lines.select(\n",
    "   F.explode(\n",
    "       F.split(lines.value, \" \")\n",
    "   ).alias(\"word\")\n",
    ")\n",
    "\n",
    "# Generate running word count\n",
    "wordCounts = words.groupBy(\"word\").count()\n"
   ]
  },
  {
   "cell_type": "code",
   "execution_count": null,
   "metadata": {},
   "outputs": [],
   "source": [
    "query = wordCounts \\\n",
    "    .writeStream \\\n",
    "    .format(\"console\") \\\n",
    "    .outputMode(\"complete\") \\\n",
    "    .start()\n",
    "# query.awaitTermination()\n",
    "# .queryName(\"word_count2\") \\"
   ]
  },
  {
   "cell_type": "code",
   "execution_count": null,
   "metadata": {},
   "outputs": [],
   "source": [
    "# spark.sql(\"SELECT * FROM word_count\").show(5)"
   ]
  },
  {
   "cell_type": "code",
   "execution_count": null,
   "metadata": {},
   "outputs": [],
   "source": [
    "query.awaitTermination()"
   ]
  },
  {
   "cell_type": "markdown",
   "metadata": {},
   "source": [
    "## Part C:  Example to use Kafka \n",
    "\n"
   ]
  },
  {
   "cell_type": "markdown",
   "metadata": {},
   "source": [
    "### How to use Kafka in Spark\n",
    "\n",
    "[How to install python packages in spark driver and executor](https://spark.apache.org/docs/latest/api/python/user_guide/python_packaging.html)\n",
    "\n",
    "For example, if we use the `archives` method,\n",
    "\n",
    "* first install conda-pack by `conda install conda-pack`\n",
    "* then generate the archived conda env by `conda pack -f -o pyspark_conda_env.tar.gz --ignore-missing-files`\n",
    "* Run pyspark codes by `$sparkloc/bin/spark-submit --jars /data/jupyter-data/lab08/spark-sql-kafka-0-10_2.12-3.3.1.jar,/data/jupyter-data/lab08/spark-token-provider-kafka-0-10_2.12-3.3.1.jar,/data/jupyter-data/lab08/commons-pool2-2.11.1.jar --archives /data/jupyter-data/lab08/pyspark_conda_env.tar.gz /data/jupyter-data/lab08_spark_kafka.py`"
   ]
  },
  {
   "cell_type": "markdown",
   "metadata": {},
   "source": [
    "### Run kafka producer\n",
    "\n",
    "See `lab08_kafka.sh`. \n",
    "\n",
    "### Define streaming source and sink"
   ]
  },
  {
   "cell_type": "code",
   "execution_count": 1,
   "metadata": {},
   "outputs": [
    {
     "name": "stderr",
     "output_type": "stream",
     "text": [
      "24/04/07 03:11:37 WARN NativeCodeLoader: Unable to load native-hadoop library for your platform... using builtin-java classes where applicable\n",
      "Setting default log level to \"WARN\".\n",
      "To adjust logging level use sc.setLogLevel(newLevel). For SparkR, use setLogLevel(newLevel).\n",
      "Setting Spark log level to \"WARN\".\n"
     ]
    }
   ],
   "source": [
    "from pyspark.sql import SparkSession\n",
    "from pyspark.context import SparkContext \n",
    "import pyspark.sql.functions as F\n",
    "from pyspark import SparkConf\n",
    "\n",
    "import os \n",
    "os.environ['PYSPARK_PYTHON'] = \"/root/miniconda3/envs/sp/bin/python\"\n",
    "\n",
    "# spark.stop()\n",
    "\n",
    "spark = SparkSession.builder\\\n",
    "  .config(\n",
    "    \"spark.jars\", \n",
    "    \"/shareddata/lab08/kafka-clients-3.5.0.jar,/shareddata/lab08/spark-sql-kafka-0-10_2.12-3.5.0.jar, \\\n",
    "    /shareddata/lab08/spark-token-provider-kafka-0-10_2.12-3.5.0.jar, \\\n",
    "    /shareddata/lab08/commons-pool2-2.12.0.jar\") \\\n",
    "  .config(\"spark.executorEnv.PYSPARK_PYTHON\",\"/root/anaconda3/bin/python\") \\\n",
    "  .config(\"spark.executor.memory\", \"2g\") \\\n",
    "  .config(\"spark.driver.memory\", \"2g\") \\\n",
    "  .config(\"spark.log.level\", \"WARN\") \\\n",
    "  .appName(\"lab8_exercise\").getOrCreate()"
   ]
  },
  {
   "cell_type": "code",
   "execution_count": 3,
   "metadata": {
    "notebookRunGroups": {
     "groupValue": "1"
    }
   },
   "outputs": [],
   "source": [
    "# Subscribe to 1 topic\n",
    "df1 = spark.readStream.format(\"kafka\")\\\n",
    "  .option(\"kafka.bootstrap.servers\", \"localhost:9092\")\\\n",
    "  .option(\"subscribe\", \"lab08\") \\\n",
    "  .option(\"startingOffsets\", \"earliest\") \\\n",
    "  .load()\n"
   ]
  },
  {
   "cell_type": "code",
   "execution_count": 4,
   "metadata": {
    "tags": []
   },
   "outputs": [
    {
     "name": "stderr",
     "output_type": "stream",
     "text": [
      "24/04/07 03:12:10 WARN ResolveWriteToStream: Temporary checkpoint location created which is deleted normally when the query didn't fail: /tmp/temporary-732a0e7d-25d3-4704-a0f2-a73082d7e6fa. If it's required to delete it under any circumstances, please set spark.sql.streaming.forceDeleteTempCheckpointLocation to true. Important to know deleting temp checkpoint folder is best effort.\n",
      "24/04/07 03:12:10 WARN ResolveWriteToStream: spark.sql.adaptive.enabled is not supported in streaming DataFrames/Datasets and will be disabled.\n"
     ]
    },
    {
     "data": {
      "text/plain": [
       "<pyspark.sql.streaming.query.StreamingQuery at 0x7f34c12ba5d0>"
      ]
     },
     "execution_count": 4,
     "metadata": {},
     "output_type": "execute_result"
    },
    {
     "name": "stderr",
     "output_type": "stream",
     "text": [
      "                                                                                \r"
     ]
    }
   ],
   "source": [
    "\n",
    "df1.selectExpr(\"topic\", \"CAST(key AS STRING)\", \"CAST(value AS STRING)\")\\\n",
    "  .writeStream.queryName(\"kafka_transform\").format(\"memory\").outputMode('update').trigger(processingTime=\"5 seconds\").start()"
   ]
  },
  {
   "cell_type": "code",
   "execution_count": 5,
   "metadata": {},
   "outputs": [
    {
     "data": {
      "text/plain": [
       "47659"
      ]
     },
     "execution_count": 5,
     "metadata": {},
     "output_type": "execute_result"
    }
   ],
   "source": [
    "spark.sql(\"SELECT get_json_object(f.value, '$.Index') as idx,get_json_object(f.value, '$.Device') as Device FROM kafka_transform f \").count()"
   ]
  },
  {
   "cell_type": "code",
   "execution_count": 6,
   "metadata": {},
   "outputs": [
    {
     "data": {
      "text/plain": [
       "[Row(idx='3971', Device='nexus4_1'),\n",
       " Row(idx='4011', Device='nexus4_1'),\n",
       " Row(idx='4051', Device='nexus4_1'),\n",
       " Row(idx='4091', Device='nexus4_1'),\n",
       " Row(idx='3954', Device='nexus4_2')]"
      ]
     },
     "execution_count": 6,
     "metadata": {},
     "output_type": "execute_result"
    },
    {
     "name": "stderr",
     "output_type": "stream",
     "text": [
      "24/04/07 03:18:21 WARN NetworkClient: [AdminClient clientId=adminclient-1] Connection to node 0 (4aea190b2e55/172.17.0.3:9092) could not be established. Broker may not be available.\n",
      "24/04/07 03:18:21 WARN NetworkClient: [AdminClient clientId=adminclient-1] Connection to node 0 (4aea190b2e55/172.17.0.3:9092) could not be established. Broker may not be available.\n",
      "24/04/07 03:18:21 WARN NetworkClient: [AdminClient clientId=adminclient-1] Connection to node 0 (4aea190b2e55/172.17.0.3:9092) could not be established. Broker may not be available.\n",
      "24/04/07 03:18:22 WARN NetworkClient: [AdminClient clientId=adminclient-1] Connection to node 0 (4aea190b2e55/172.17.0.3:9092) could not be established. Broker may not be available.\n",
      "24/04/07 03:18:22 WARN NetworkClient: [AdminClient clientId=adminclient-1] Connection to node 0 (4aea190b2e55/172.17.0.3:9092) could not be established. Broker may not be available.\n",
      "24/04/07 03:18:23 WARN NetworkClient: [AdminClient clientId=adminclient-1] Connection to node 0 (4aea190b2e55/172.17.0.3:9092) could not be established. Broker may not be available.\n",
      "24/04/07 03:18:24 WARN NetworkClient: [AdminClient clientId=adminclient-1] Connection to node 0 (4aea190b2e55/172.17.0.3:9092) could not be established. Broker may not be available.\n",
      "24/04/07 03:18:25 WARN NetworkClient: [AdminClient clientId=adminclient-1] Connection to node 0 (4aea190b2e55/172.17.0.3:9092) could not be established. Broker may not be available.\n",
      "24/04/07 03:18:26 WARN NetworkClient: [AdminClient clientId=adminclient-1] Connection to node 0 (4aea190b2e55/172.17.0.3:9092) could not be established. Broker may not be available.\n",
      "24/04/07 03:18:28 WARN NetworkClient: [AdminClient clientId=adminclient-1] Connection to node 0 (4aea190b2e55/172.17.0.3:9092) could not be established. Broker may not be available.\n",
      "24/04/07 03:18:29 WARN NetworkClient: [AdminClient clientId=adminclient-1] Connection to node 0 (4aea190b2e55/172.17.0.3:9092) could not be established. Broker may not be available.\n",
      "24/04/07 03:18:30 WARN NetworkClient: [AdminClient clientId=adminclient-1] Connection to node 0 (4aea190b2e55/172.17.0.3:9092) could not be established. Broker may not be available.\n",
      "24/04/07 03:18:31 WARN NetworkClient: [AdminClient clientId=adminclient-1] Connection to node 0 (4aea190b2e55/172.17.0.3:9092) could not be established. Broker may not be available.\n",
      "24/04/07 03:18:32 WARN NetworkClient: [AdminClient clientId=adminclient-1] Connection to node 0 (4aea190b2e55/172.17.0.3:9092) could not be established. Broker may not be available.\n",
      "24/04/07 03:18:33 WARN NetworkClient: [AdminClient clientId=adminclient-1] Connection to node 0 (4aea190b2e55/172.17.0.3:9092) could not be established. Broker may not be available.\n",
      "24/04/07 03:18:34 WARN NetworkClient: [AdminClient clientId=adminclient-1] Connection to node 0 (4aea190b2e55/172.17.0.3:9092) could not be established. Broker may not be available.\n",
      "24/04/07 03:18:35 WARN NetworkClient: [AdminClient clientId=adminclient-1] Connection to node 0 (4aea190b2e55/172.17.0.3:9092) could not be established. Broker may not be available.\n",
      "24/04/07 03:18:36 WARN NetworkClient: [AdminClient clientId=adminclient-1] Connection to node 0 (4aea190b2e55/172.17.0.3:9092) could not be established. Broker may not be available.\n",
      "24/04/07 03:18:37 WARN NetworkClient: [AdminClient clientId=adminclient-1] Connection to node 0 (4aea190b2e55/172.17.0.3:9092) could not be established. Broker may not be available.\n",
      "24/04/07 03:18:38 WARN NetworkClient: [AdminClient clientId=adminclient-1] Connection to node 0 (4aea190b2e55/172.17.0.3:9092) could not be established. Broker may not be available.\n",
      "24/04/07 03:18:39 WARN NetworkClient: [AdminClient clientId=adminclient-1] Connection to node 0 (4aea190b2e55/172.17.0.3:9092) could not be established. Broker may not be available.\n",
      "24/04/07 03:18:41 WARN NetworkClient: [AdminClient clientId=adminclient-1] Connection to node 0 (4aea190b2e55/172.17.0.3:9092) could not be established. Broker may not be available.\n",
      "24/04/07 03:18:42 WARN NetworkClient: [AdminClient clientId=adminclient-1] Connection to node 0 (4aea190b2e55/172.17.0.3:9092) could not be established. Broker may not be available.\n",
      "24/04/07 03:18:43 WARN NetworkClient: [AdminClient clientId=adminclient-1] Connection to node 0 (4aea190b2e55/172.17.0.3:9092) could not be established. Broker may not be available.\n",
      "24/04/07 03:18:44 WARN NetworkClient: [AdminClient clientId=adminclient-1] Connection to node 0 (4aea190b2e55/172.17.0.3:9092) could not be established. Broker may not be available.\n",
      "24/04/07 03:18:45 WARN NetworkClient: [AdminClient clientId=adminclient-1] Connection to node 0 (4aea190b2e55/172.17.0.3:9092) could not be established. Broker may not be available.\n",
      "24/04/07 03:18:46 WARN NetworkClient: [AdminClient clientId=adminclient-1] Connection to node 0 (4aea190b2e55/172.17.0.3:9092) could not be established. Broker may not be available.\n",
      "24/04/07 03:18:47 WARN NetworkClient: [AdminClient clientId=adminclient-1] Connection to node 0 (4aea190b2e55/172.17.0.3:9092) could not be established. Broker may not be available.\n",
      "24/04/07 03:18:48 WARN NetworkClient: [AdminClient clientId=adminclient-1] Connection to node 0 (4aea190b2e55/172.17.0.3:9092) could not be established. Broker may not be available.\n",
      "24/04/07 03:18:50 WARN NetworkClient: [AdminClient clientId=adminclient-1] Connection to node 0 (4aea190b2e55/172.17.0.3:9092) could not be established. Broker may not be available.\n",
      "24/04/07 03:18:51 WARN NetworkClient: [AdminClient clientId=adminclient-1] Connection to node 0 (4aea190b2e55/172.17.0.3:9092) could not be established. Broker may not be available.\n",
      "24/04/07 03:18:52 WARN NetworkClient: [AdminClient clientId=adminclient-1] Connection to node 0 (4aea190b2e55/172.17.0.3:9092) could not be established. Broker may not be available.\n",
      "24/04/07 03:18:53 WARN NetworkClient: [AdminClient clientId=adminclient-1] Connection to node 0 (4aea190b2e55/172.17.0.3:9092) could not be established. Broker may not be available.\n",
      "24/04/07 03:18:53 WARN NetworkClient: [AdminClient clientId=adminclient-1] Connection to node 0 (4aea190b2e55/172.17.0.3:9092) could not be established. Broker may not be available.\n",
      "24/04/07 03:18:54 WARN NetworkClient: [AdminClient clientId=adminclient-1] Connection to node 0 (4aea190b2e55/172.17.0.3:9092) could not be established. Broker may not be available.\n",
      "24/04/07 03:18:56 WARN NetworkClient: [AdminClient clientId=adminclient-1] Connection to node 0 (4aea190b2e55/172.17.0.3:9092) could not be established. Broker may not be available.\n",
      "24/04/07 03:18:57 WARN NetworkClient: [AdminClient clientId=adminclient-1] Connection to node 0 (4aea190b2e55/172.17.0.3:9092) could not be established. Broker may not be available.\n",
      "24/04/07 03:18:58 WARN NetworkClient: [AdminClient clientId=adminclient-1] Connection to node 0 (4aea190b2e55/172.17.0.3:9092) could not be established. Broker may not be available.\n",
      "24/04/07 03:18:58 WARN NetworkClient: [AdminClient clientId=adminclient-1] Connection to node 0 (4aea190b2e55/172.17.0.3:9092) could not be established. Broker may not be available.\n",
      "24/04/07 03:19:00 WARN NetworkClient: [AdminClient clientId=adminclient-1] Connection to node 0 (4aea190b2e55/172.17.0.3:9092) could not be established. Broker may not be available.\n",
      "24/04/07 03:19:01 WARN NetworkClient: [AdminClient clientId=adminclient-1] Connection to node 0 (4aea190b2e55/172.17.0.3:9092) could not be established. Broker may not be available.\n",
      "24/04/07 03:19:02 WARN NetworkClient: [AdminClient clientId=adminclient-1] Connection to node 0 (4aea190b2e55/172.17.0.3:9092) could not be established. Broker may not be available.\n",
      "24/04/07 03:19:03 WARN NetworkClient: [AdminClient clientId=adminclient-1] Connection to node 0 (4aea190b2e55/172.17.0.3:9092) could not be established. Broker may not be available.\n",
      "24/04/07 03:19:04 WARN NetworkClient: [AdminClient clientId=adminclient-1] Connection to node 0 (4aea190b2e55/172.17.0.3:9092) could not be established. Broker may not be available.\n",
      "24/04/07 03:19:05 WARN NetworkClient: [AdminClient clientId=adminclient-1] Connection to node 0 (4aea190b2e55/172.17.0.3:9092) could not be established. Broker may not be available.\n",
      "24/04/07 03:19:06 WARN NetworkClient: [AdminClient clientId=adminclient-1] Connection to node 0 (4aea190b2e55/172.17.0.3:9092) could not be established. Broker may not be available.\n",
      "24/04/07 03:19:07 WARN NetworkClient: [AdminClient clientId=adminclient-1] Connection to node 0 (4aea190b2e55/172.17.0.3:9092) could not be established. Broker may not be available.\n",
      "24/04/07 03:19:08 WARN NetworkClient: [AdminClient clientId=adminclient-1] Connection to node 0 (4aea190b2e55/172.17.0.3:9092) could not be established. Broker may not be available.\n",
      "24/04/07 03:19:09 WARN NetworkClient: [AdminClient clientId=adminclient-1] Connection to node 0 (4aea190b2e55/172.17.0.3:9092) could not be established. Broker may not be available.\n",
      "24/04/07 03:19:11 WARN NetworkClient: [AdminClient clientId=adminclient-1] Connection to node 0 (4aea190b2e55/172.17.0.3:9092) could not be established. Broker may not be available.\n",
      "24/04/07 03:19:12 WARN NetworkClient: [AdminClient clientId=adminclient-1] Connection to node 0 (4aea190b2e55/172.17.0.3:9092) could not be established. Broker may not be available.\n",
      "24/04/07 03:19:13 WARN NetworkClient: [AdminClient clientId=adminclient-1] Connection to node 0 (4aea190b2e55/172.17.0.3:9092) could not be established. Broker may not be available.\n",
      "24/04/07 03:19:14 WARN NetworkClient: [AdminClient clientId=adminclient-1] Connection to node 0 (4aea190b2e55/172.17.0.3:9092) could not be established. Broker may not be available.\n",
      "24/04/07 03:19:15 WARN NetworkClient: [AdminClient clientId=adminclient-1] Connection to node 0 (4aea190b2e55/172.17.0.3:9092) could not be established. Broker may not be available.\n",
      "24/04/07 03:19:15 WARN NetworkClient: [AdminClient clientId=adminclient-1] Connection to node 0 (4aea190b2e55/172.17.0.3:9092) could not be established. Broker may not be available.\n",
      "24/04/07 03:19:17 WARN NetworkClient: [AdminClient clientId=adminclient-1] Connection to node 0 (4aea190b2e55/172.17.0.3:9092) could not be established. Broker may not be available.\n",
      "24/04/07 03:19:18 WARN NetworkClient: [AdminClient clientId=adminclient-1] Connection to node 0 (4aea190b2e55/172.17.0.3:9092) could not be established. Broker may not be available.\n",
      "24/04/07 03:19:19 WARN NetworkClient: [AdminClient clientId=adminclient-1] Connection to node 0 (4aea190b2e55/172.17.0.3:9092) could not be established. Broker may not be available.\n",
      "24/04/07 03:19:20 WARN NetworkClient: [AdminClient clientId=adminclient-1] Connection to node 0 (4aea190b2e55/172.17.0.3:9092) could not be established. Broker may not be available.\n",
      "24/04/07 03:19:21 WARN NetworkClient: [AdminClient clientId=adminclient-1] Connection to node 0 (4aea190b2e55/172.17.0.3:9092) could not be established. Broker may not be available.\n",
      "24/04/07 03:19:22 WARN NetworkClient: [AdminClient clientId=adminclient-1] Connection to node 0 (4aea190b2e55/172.17.0.3:9092) could not be established. Broker may not be available.\n",
      "24/04/07 03:19:23 WARN NetworkClient: [AdminClient clientId=adminclient-1] Connection to node 0 (4aea190b2e55/172.17.0.3:9092) could not be established. Broker may not be available.\n",
      "24/04/07 03:19:25 WARN KafkaOffsetReaderAdmin: Error in attempt 1 getting Kafka offsets: \n",
      "java.util.concurrent.ExecutionException: org.apache.kafka.common.errors.TimeoutException: Timed out waiting for a node assignment. Call: describeTopics\n",
      "\tat java.util.concurrent.CompletableFuture.reportGet(CompletableFuture.java:357)\n",
      "\tat java.util.concurrent.CompletableFuture.get(CompletableFuture.java:1908)\n",
      "\tat org.apache.kafka.common.internals.KafkaFutureImpl.get(KafkaFutureImpl.java:165)\n",
      "\tat org.apache.spark.sql.kafka010.ConsumerStrategy.retrieveAllPartitions(ConsumerStrategy.scala:66)\n",
      "\tat org.apache.spark.sql.kafka010.ConsumerStrategy.retrieveAllPartitions$(ConsumerStrategy.scala:65)\n",
      "\tat org.apache.spark.sql.kafka010.SubscribeStrategy.retrieveAllPartitions(ConsumerStrategy.scala:102)\n",
      "\tat org.apache.spark.sql.kafka010.SubscribeStrategy.assignedTopicPartitions(ConsumerStrategy.scala:113)\n",
      "\tat org.apache.spark.sql.kafka010.KafkaOffsetReaderAdmin.$anonfun$partitionsAssignedToAdmin$1(KafkaOffsetReaderAdmin.scala:499)\n",
      "\tat org.apache.spark.sql.kafka010.KafkaOffsetReaderAdmin.withRetries(KafkaOffsetReaderAdmin.scala:518)\n",
      "\tat org.apache.spark.sql.kafka010.KafkaOffsetReaderAdmin.partitionsAssignedToAdmin(KafkaOffsetReaderAdmin.scala:498)\n",
      "\tat org.apache.spark.sql.kafka010.KafkaOffsetReaderAdmin.fetchLatestOffsets(KafkaOffsetReaderAdmin.scala:297)\n",
      "\tat org.apache.spark.sql.kafka010.KafkaMicroBatchStream.latestOffset(KafkaMicroBatchStream.scala:130)\n",
      "\tat org.apache.spark.sql.execution.streaming.MicroBatchExecution.$anonfun$constructNextBatch$4(MicroBatchExecution.scala:491)\n",
      "\tat org.apache.spark.sql.execution.streaming.ProgressReporter.reportTimeTaken(ProgressReporter.scala:427)\n",
      "\tat org.apache.spark.sql.execution.streaming.ProgressReporter.reportTimeTaken$(ProgressReporter.scala:425)\n",
      "\tat org.apache.spark.sql.execution.streaming.StreamExecution.reportTimeTaken(StreamExecution.scala:67)\n",
      "\tat org.apache.spark.sql.execution.streaming.MicroBatchExecution.$anonfun$constructNextBatch$2(MicroBatchExecution.scala:490)\n",
      "\tat scala.collection.TraversableLike.$anonfun$map$1(TraversableLike.scala:286)\n",
      "\tat scala.collection.Iterator.foreach(Iterator.scala:943)\n",
      "\tat scala.collection.Iterator.foreach$(Iterator.scala:943)\n",
      "\tat scala.collection.AbstractIterator.foreach(Iterator.scala:1431)\n",
      "\tat scala.collection.IterableLike.foreach(IterableLike.scala:74)\n",
      "\tat scala.collection.IterableLike.foreach$(IterableLike.scala:73)\n",
      "\tat scala.collection.AbstractIterable.foreach(Iterable.scala:56)\n",
      "\tat scala.collection.TraversableLike.map(TraversableLike.scala:286)\n",
      "\tat scala.collection.TraversableLike.map$(TraversableLike.scala:279)\n",
      "\tat scala.collection.AbstractTraversable.map(Traversable.scala:108)\n",
      "\tat org.apache.spark.sql.execution.streaming.MicroBatchExecution.$anonfun$constructNextBatch$1(MicroBatchExecution.scala:479)\n",
      "\tat scala.runtime.java8.JFunction0$mcZ$sp.apply(JFunction0$mcZ$sp.java:23)\n",
      "\tat org.apache.spark.sql.execution.streaming.MicroBatchExecution.withProgressLocked(MicroBatchExecution.scala:810)\n",
      "\tat org.apache.spark.sql.execution.streaming.MicroBatchExecution.constructNextBatch(MicroBatchExecution.scala:475)\n",
      "\tat org.apache.spark.sql.execution.streaming.MicroBatchExecution.$anonfun$runActivatedStream$2(MicroBatchExecution.scala:268)\n",
      "\tat scala.runtime.java8.JFunction0$mcV$sp.apply(JFunction0$mcV$sp.java:23)\n",
      "\tat org.apache.spark.sql.execution.streaming.ProgressReporter.reportTimeTaken(ProgressReporter.scala:427)\n",
      "\tat org.apache.spark.sql.execution.streaming.ProgressReporter.reportTimeTaken$(ProgressReporter.scala:425)\n",
      "\tat org.apache.spark.sql.execution.streaming.StreamExecution.reportTimeTaken(StreamExecution.scala:67)\n",
      "\tat org.apache.spark.sql.execution.streaming.MicroBatchExecution.$anonfun$runActivatedStream$1(MicroBatchExecution.scala:249)\n",
      "\tat org.apache.spark.sql.execution.streaming.ProcessingTimeExecutor.execute(TriggerExecutor.scala:67)\n",
      "\tat org.apache.spark.sql.execution.streaming.MicroBatchExecution.runActivatedStream(MicroBatchExecution.scala:239)\n",
      "\tat org.apache.spark.sql.execution.streaming.StreamExecution.$anonfun$runStream$1(StreamExecution.scala:311)\n",
      "\tat scala.runtime.java8.JFunction0$mcV$sp.apply(JFunction0$mcV$sp.java:23)\n",
      "\tat org.apache.spark.sql.SparkSession.withActive(SparkSession.scala:900)\n",
      "\tat org.apache.spark.sql.execution.streaming.StreamExecution.org$apache$spark$sql$execution$streaming$StreamExecution$$runStream(StreamExecution.scala:289)\n",
      "\tat org.apache.spark.sql.execution.streaming.StreamExecution$$anon$1.$anonfun$run$1(StreamExecution.scala:211)\n",
      "\tat scala.runtime.java8.JFunction0$mcV$sp.apply(JFunction0$mcV$sp.java:23)\n",
      "\tat org.apache.spark.JobArtifactSet$.withActiveJobArtifactState(JobArtifactSet.scala:94)\n",
      "\tat org.apache.spark.sql.execution.streaming.StreamExecution$$anon$1.run(StreamExecution.scala:211)\n",
      "Caused by: org.apache.kafka.common.errors.TimeoutException: Timed out waiting for a node assignment. Call: describeTopics\n",
      "24/04/07 03:19:25 WARN NetworkClient: [AdminClient clientId=adminclient-1] Connection to node 0 (4aea190b2e55/172.17.0.3:9092) could not be established. Broker may not be available.\n",
      "24/04/07 03:19:26 WARN NetworkClient: [AdminClient clientId=adminclient-2] Connection to node -1 (localhost/127.0.0.1:9092) could not be established. Broker may not be available.\n",
      "24/04/07 03:19:26 WARN NetworkClient: [AdminClient clientId=adminclient-2] Connection to node -1 (localhost/127.0.0.1:9092) could not be established. Broker may not be available.\n",
      "24/04/07 03:19:26 WARN NetworkClient: [AdminClient clientId=adminclient-2] Connection to node -1 (localhost/127.0.0.1:9092) could not be established. Broker may not be available.\n",
      "24/04/07 03:19:26 WARN NetworkClient: [AdminClient clientId=adminclient-2] Connection to node -1 (localhost/127.0.0.1:9092) could not be established. Broker may not be available.\n",
      "24/04/07 03:19:26 WARN NetworkClient: [AdminClient clientId=adminclient-2] Connection to node -1 (localhost/127.0.0.1:9092) could not be established. Broker may not be available.\n",
      "24/04/07 03:19:27 WARN NetworkClient: [AdminClient clientId=adminclient-2] Connection to node -1 (localhost/127.0.0.1:9092) could not be established. Broker may not be available.\n",
      "24/04/07 03:19:28 WARN NetworkClient: [AdminClient clientId=adminclient-2] Connection to node -1 (localhost/127.0.0.1:9092) could not be established. Broker may not be available.\n",
      "24/04/07 03:19:29 WARN NetworkClient: [AdminClient clientId=adminclient-2] Connection to node -1 (localhost/127.0.0.1:9092) could not be established. Broker may not be available.\n",
      "24/04/07 03:19:31 WARN NetworkClient: [AdminClient clientId=adminclient-2] Connection to node -1 (localhost/127.0.0.1:9092) could not be established. Broker may not be available.\n",
      "24/04/07 03:19:31 WARN NetworkClient: [AdminClient clientId=adminclient-2] Connection to node -1 (localhost/127.0.0.1:9092) could not be established. Broker may not be available.\n",
      "24/04/07 03:19:33 WARN NetworkClient: [AdminClient clientId=adminclient-2] Connection to node -1 (localhost/127.0.0.1:9092) could not be established. Broker may not be available.\n",
      "24/04/07 03:19:34 WARN NetworkClient: [AdminClient clientId=adminclient-2] Connection to node -1 (localhost/127.0.0.1:9092) could not be established. Broker may not be available.\n",
      "24/04/07 03:19:35 WARN NetworkClient: [AdminClient clientId=adminclient-2] Connection to node -1 (localhost/127.0.0.1:9092) could not be established. Broker may not be available.\n",
      "24/04/07 03:19:36 WARN NetworkClient: [AdminClient clientId=adminclient-2] Connection to node -1 (localhost/127.0.0.1:9092) could not be established. Broker may not be available.\n",
      "24/04/07 03:19:37 WARN NetworkClient: [AdminClient clientId=adminclient-2] Connection to node -1 (localhost/127.0.0.1:9092) could not be established. Broker may not be available.\n",
      "24/04/07 03:19:38 WARN NetworkClient: [AdminClient clientId=adminclient-2] Connection to node -1 (localhost/127.0.0.1:9092) could not be established. Broker may not be available.\n",
      "24/04/07 03:19:39 WARN NetworkClient: [AdminClient clientId=adminclient-2] Connection to node -1 (localhost/127.0.0.1:9092) could not be established. Broker may not be available.\n",
      "24/04/07 03:19:40 WARN NetworkClient: [AdminClient clientId=adminclient-2] Connection to node -1 (localhost/127.0.0.1:9092) could not be established. Broker may not be available.\n",
      "24/04/07 03:19:41 WARN NetworkClient: [AdminClient clientId=adminclient-2] Connection to node -1 (localhost/127.0.0.1:9092) could not be established. Broker may not be available.\n",
      "24/04/07 03:19:42 WARN NetworkClient: [AdminClient clientId=adminclient-2] Connection to node -1 (localhost/127.0.0.1:9092) could not be established. Broker may not be available.\n",
      "24/04/07 03:19:43 WARN NetworkClient: [AdminClient clientId=adminclient-2] Connection to node -1 (localhost/127.0.0.1:9092) could not be established. Broker may not be available.\n",
      "24/04/07 03:19:44 WARN NetworkClient: [AdminClient clientId=adminclient-2] Connection to node -1 (localhost/127.0.0.1:9092) could not be established. Broker may not be available.\n",
      "24/04/07 03:19:45 WARN NetworkClient: [AdminClient clientId=adminclient-2] Connection to node -1 (localhost/127.0.0.1:9092) could not be established. Broker may not be available.\n",
      "24/04/07 03:19:46 WARN NetworkClient: [AdminClient clientId=adminclient-2] Connection to node -1 (localhost/127.0.0.1:9092) could not be established. Broker may not be available.\n",
      "24/04/07 03:19:47 WARN NetworkClient: [AdminClient clientId=adminclient-2] Connection to node -1 (localhost/127.0.0.1:9092) could not be established. Broker may not be available.\n",
      "24/04/07 03:19:48 WARN NetworkClient: [AdminClient clientId=adminclient-2] Connection to node -1 (localhost/127.0.0.1:9092) could not be established. Broker may not be available.\n",
      "24/04/07 03:19:49 WARN NetworkClient: [AdminClient clientId=adminclient-2] Connection to node -1 (localhost/127.0.0.1:9092) could not be established. Broker may not be available.\n",
      "24/04/07 03:19:50 WARN NetworkClient: [AdminClient clientId=adminclient-2] Connection to node -1 (localhost/127.0.0.1:9092) could not be established. Broker may not be available.\n",
      "24/04/07 03:19:51 WARN NetworkClient: [AdminClient clientId=adminclient-2] Connection to node -1 (localhost/127.0.0.1:9092) could not be established. Broker may not be available.\n",
      "24/04/07 03:19:52 WARN NetworkClient: [AdminClient clientId=adminclient-2] Connection to node -1 (localhost/127.0.0.1:9092) could not be established. Broker may not be available.\n",
      "24/04/07 03:19:53 WARN NetworkClient: [AdminClient clientId=adminclient-2] Connection to node -1 (localhost/127.0.0.1:9092) could not be established. Broker may not be available.\n",
      "24/04/07 03:19:54 WARN NetworkClient: [AdminClient clientId=adminclient-2] Connection to node -1 (localhost/127.0.0.1:9092) could not be established. Broker may not be available.\n",
      "24/04/07 03:19:55 WARN NetworkClient: [AdminClient clientId=adminclient-2] Connection to node -1 (localhost/127.0.0.1:9092) could not be established. Broker may not be available.\n",
      "24/04/07 03:19:56 WARN NetworkClient: [AdminClient clientId=adminclient-2] Connection to node -1 (localhost/127.0.0.1:9092) could not be established. Broker may not be available.\n",
      "24/04/07 03:19:58 WARN NetworkClient: [AdminClient clientId=adminclient-2] Connection to node -1 (localhost/127.0.0.1:9092) could not be established. Broker may not be available.\n",
      "24/04/07 03:19:59 WARN NetworkClient: [AdminClient clientId=adminclient-2] Connection to node -1 (localhost/127.0.0.1:9092) could not be established. Broker may not be available.\n",
      "24/04/07 03:19:59 WARN NetworkClient: [AdminClient clientId=adminclient-2] Connection to node -1 (localhost/127.0.0.1:9092) could not be established. Broker may not be available.\n",
      "24/04/07 03:20:00 WARN NetworkClient: [AdminClient clientId=adminclient-2] Connection to node -1 (localhost/127.0.0.1:9092) could not be established. Broker may not be available.\n",
      "24/04/07 03:20:02 WARN NetworkClient: [AdminClient clientId=adminclient-2] Connection to node -1 (localhost/127.0.0.1:9092) could not be established. Broker may not be available.\n",
      "24/04/07 03:20:02 WARN NetworkClient: [AdminClient clientId=adminclient-2] Connection to node -1 (localhost/127.0.0.1:9092) could not be established. Broker may not be available.\n",
      "24/04/07 03:20:04 WARN NetworkClient: [AdminClient clientId=adminclient-2] Connection to node -1 (localhost/127.0.0.1:9092) could not be established. Broker may not be available.\n",
      "24/04/07 03:20:05 WARN NetworkClient: [AdminClient clientId=adminclient-2] Connection to node -1 (localhost/127.0.0.1:9092) could not be established. Broker may not be available.\n",
      "24/04/07 03:20:06 WARN NetworkClient: [AdminClient clientId=adminclient-2] Connection to node -1 (localhost/127.0.0.1:9092) could not be established. Broker may not be available.\n",
      "24/04/07 03:20:07 WARN NetworkClient: [AdminClient clientId=adminclient-2] Connection to node -1 (localhost/127.0.0.1:9092) could not be established. Broker may not be available.\n",
      "24/04/07 03:20:08 WARN NetworkClient: [AdminClient clientId=adminclient-2] Connection to node -1 (localhost/127.0.0.1:9092) could not be established. Broker may not be available.\n",
      "24/04/07 03:20:09 WARN NetworkClient: [AdminClient clientId=adminclient-2] Connection to node -1 (localhost/127.0.0.1:9092) could not be established. Broker may not be available.\n",
      "24/04/07 03:20:10 WARN NetworkClient: [AdminClient clientId=adminclient-2] Connection to node -1 (localhost/127.0.0.1:9092) could not be established. Broker may not be available.\n",
      "24/04/07 03:20:11 WARN NetworkClient: [AdminClient clientId=adminclient-2] Connection to node -1 (localhost/127.0.0.1:9092) could not be established. Broker may not be available.\n",
      "24/04/07 03:20:12 WARN NetworkClient: [AdminClient clientId=adminclient-2] Connection to node -1 (localhost/127.0.0.1:9092) could not be established. Broker may not be available.\n",
      "24/04/07 03:20:13 WARN NetworkClient: [AdminClient clientId=adminclient-2] Connection to node -1 (localhost/127.0.0.1:9092) could not be established. Broker may not be available.\n",
      "24/04/07 03:20:14 WARN NetworkClient: [AdminClient clientId=adminclient-2] Connection to node -1 (localhost/127.0.0.1:9092) could not be established. Broker may not be available.\n",
      "24/04/07 03:20:15 WARN NetworkClient: [AdminClient clientId=adminclient-2] Connection to node -1 (localhost/127.0.0.1:9092) could not be established. Broker may not be available.\n",
      "24/04/07 03:20:16 WARN NetworkClient: [AdminClient clientId=adminclient-2] Connection to node -1 (localhost/127.0.0.1:9092) could not be established. Broker may not be available.\n",
      "24/04/07 03:20:17 WARN NetworkClient: [AdminClient clientId=adminclient-2] Connection to node -1 (localhost/127.0.0.1:9092) could not be established. Broker may not be available.\n",
      "24/04/07 03:20:18 WARN NetworkClient: [AdminClient clientId=adminclient-2] Connection to node -1 (localhost/127.0.0.1:9092) could not be established. Broker may not be available.\n",
      "24/04/07 03:20:19 WARN NetworkClient: [AdminClient clientId=adminclient-2] Connection to node -1 (localhost/127.0.0.1:9092) could not be established. Broker may not be available.\n",
      "24/04/07 03:20:20 WARN NetworkClient: [AdminClient clientId=adminclient-2] Connection to node -1 (localhost/127.0.0.1:9092) could not be established. Broker may not be available.\n",
      "24/04/07 03:20:21 WARN NetworkClient: [AdminClient clientId=adminclient-2] Connection to node -1 (localhost/127.0.0.1:9092) could not be established. Broker may not be available.\n",
      "24/04/07 03:20:22 WARN NetworkClient: [AdminClient clientId=adminclient-2] Connection to node -1 (localhost/127.0.0.1:9092) could not be established. Broker may not be available.\n",
      "24/04/07 03:20:23 WARN NetworkClient: [AdminClient clientId=adminclient-2] Connection to node -1 (localhost/127.0.0.1:9092) could not be established. Broker may not be available.\n",
      "24/04/07 03:20:24 WARN NetworkClient: [AdminClient clientId=adminclient-2] Connection to node -1 (localhost/127.0.0.1:9092) could not be established. Broker may not be available.\n",
      "24/04/07 03:20:25 WARN NetworkClient: [AdminClient clientId=adminclient-2] Connection to node -1 (localhost/127.0.0.1:9092) could not be established. Broker may not be available.\n",
      "24/04/07 03:20:26 WARN KafkaOffsetReaderAdmin: Error in attempt 2 getting Kafka offsets: \n",
      "java.util.concurrent.ExecutionException: org.apache.kafka.common.errors.TimeoutException: Timed out waiting for a node assignment. Call: describeTopics\n",
      "\tat java.util.concurrent.CompletableFuture.reportGet(CompletableFuture.java:357)\n",
      "\tat java.util.concurrent.CompletableFuture.get(CompletableFuture.java:1908)\n",
      "\tat org.apache.kafka.common.internals.KafkaFutureImpl.get(KafkaFutureImpl.java:165)\n",
      "\tat org.apache.spark.sql.kafka010.ConsumerStrategy.retrieveAllPartitions(ConsumerStrategy.scala:66)\n",
      "\tat org.apache.spark.sql.kafka010.ConsumerStrategy.retrieveAllPartitions$(ConsumerStrategy.scala:65)\n",
      "\tat org.apache.spark.sql.kafka010.SubscribeStrategy.retrieveAllPartitions(ConsumerStrategy.scala:102)\n",
      "\tat org.apache.spark.sql.kafka010.SubscribeStrategy.assignedTopicPartitions(ConsumerStrategy.scala:113)\n",
      "\tat org.apache.spark.sql.kafka010.KafkaOffsetReaderAdmin.$anonfun$partitionsAssignedToAdmin$1(KafkaOffsetReaderAdmin.scala:499)\n",
      "\tat org.apache.spark.sql.kafka010.KafkaOffsetReaderAdmin.withRetries(KafkaOffsetReaderAdmin.scala:518)\n",
      "\tat org.apache.spark.sql.kafka010.KafkaOffsetReaderAdmin.partitionsAssignedToAdmin(KafkaOffsetReaderAdmin.scala:498)\n",
      "\tat org.apache.spark.sql.kafka010.KafkaOffsetReaderAdmin.fetchLatestOffsets(KafkaOffsetReaderAdmin.scala:297)\n",
      "\tat org.apache.spark.sql.kafka010.KafkaMicroBatchStream.latestOffset(KafkaMicroBatchStream.scala:130)\n",
      "\tat org.apache.spark.sql.execution.streaming.MicroBatchExecution.$anonfun$constructNextBatch$4(MicroBatchExecution.scala:491)\n",
      "\tat org.apache.spark.sql.execution.streaming.ProgressReporter.reportTimeTaken(ProgressReporter.scala:427)\n",
      "\tat org.apache.spark.sql.execution.streaming.ProgressReporter.reportTimeTaken$(ProgressReporter.scala:425)\n",
      "\tat org.apache.spark.sql.execution.streaming.StreamExecution.reportTimeTaken(StreamExecution.scala:67)\n",
      "\tat org.apache.spark.sql.execution.streaming.MicroBatchExecution.$anonfun$constructNextBatch$2(MicroBatchExecution.scala:490)\n",
      "\tat scala.collection.TraversableLike.$anonfun$map$1(TraversableLike.scala:286)\n",
      "\tat scala.collection.Iterator.foreach(Iterator.scala:943)\n",
      "\tat scala.collection.Iterator.foreach$(Iterator.scala:943)\n",
      "\tat scala.collection.AbstractIterator.foreach(Iterator.scala:1431)\n",
      "\tat scala.collection.IterableLike.foreach(IterableLike.scala:74)\n",
      "\tat scala.collection.IterableLike.foreach$(IterableLike.scala:73)\n",
      "\tat scala.collection.AbstractIterable.foreach(Iterable.scala:56)\n",
      "\tat scala.collection.TraversableLike.map(TraversableLike.scala:286)\n",
      "\tat scala.collection.TraversableLike.map$(TraversableLike.scala:279)\n",
      "\tat scala.collection.AbstractTraversable.map(Traversable.scala:108)\n",
      "\tat org.apache.spark.sql.execution.streaming.MicroBatchExecution.$anonfun$constructNextBatch$1(MicroBatchExecution.scala:479)\n",
      "\tat scala.runtime.java8.JFunction0$mcZ$sp.apply(JFunction0$mcZ$sp.java:23)\n",
      "\tat org.apache.spark.sql.execution.streaming.MicroBatchExecution.withProgressLocked(MicroBatchExecution.scala:810)\n",
      "\tat org.apache.spark.sql.execution.streaming.MicroBatchExecution.constructNextBatch(MicroBatchExecution.scala:475)\n",
      "\tat org.apache.spark.sql.execution.streaming.MicroBatchExecution.$anonfun$runActivatedStream$2(MicroBatchExecution.scala:268)\n",
      "\tat scala.runtime.java8.JFunction0$mcV$sp.apply(JFunction0$mcV$sp.java:23)\n",
      "\tat org.apache.spark.sql.execution.streaming.ProgressReporter.reportTimeTaken(ProgressReporter.scala:427)\n",
      "\tat org.apache.spark.sql.execution.streaming.ProgressReporter.reportTimeTaken$(ProgressReporter.scala:425)\n",
      "\tat org.apache.spark.sql.execution.streaming.StreamExecution.reportTimeTaken(StreamExecution.scala:67)\n",
      "\tat org.apache.spark.sql.execution.streaming.MicroBatchExecution.$anonfun$runActivatedStream$1(MicroBatchExecution.scala:249)\n",
      "\tat org.apache.spark.sql.execution.streaming.ProcessingTimeExecutor.execute(TriggerExecutor.scala:67)\n",
      "\tat org.apache.spark.sql.execution.streaming.MicroBatchExecution.runActivatedStream(MicroBatchExecution.scala:239)\n",
      "\tat org.apache.spark.sql.execution.streaming.StreamExecution.$anonfun$runStream$1(StreamExecution.scala:311)\n",
      "\tat scala.runtime.java8.JFunction0$mcV$sp.apply(JFunction0$mcV$sp.java:23)\n",
      "\tat org.apache.spark.sql.SparkSession.withActive(SparkSession.scala:900)\n",
      "\tat org.apache.spark.sql.execution.streaming.StreamExecution.org$apache$spark$sql$execution$streaming$StreamExecution$$runStream(StreamExecution.scala:289)\n",
      "\tat org.apache.spark.sql.execution.streaming.StreamExecution$$anon$1.$anonfun$run$1(StreamExecution.scala:211)\n",
      "\tat scala.runtime.java8.JFunction0$mcV$sp.apply(JFunction0$mcV$sp.java:23)\n",
      "\tat org.apache.spark.JobArtifactSet$.withActiveJobArtifactState(JobArtifactSet.scala:94)\n",
      "\tat org.apache.spark.sql.execution.streaming.StreamExecution$$anon$1.run(StreamExecution.scala:211)\n",
      "Caused by: org.apache.kafka.common.errors.TimeoutException: Timed out waiting for a node assignment. Call: describeTopics\n",
      "24/04/07 03:20:26 WARN NetworkClient: [AdminClient clientId=adminclient-2] Connection to node -1 (localhost/127.0.0.1:9092) could not be established. Broker may not be available.\n",
      "24/04/07 03:20:27 WARN NetworkClient: [AdminClient clientId=adminclient-3] Connection to node -1 (localhost/127.0.0.1:9092) could not be established. Broker may not be available.\n",
      "24/04/07 03:20:27 WARN NetworkClient: [AdminClient clientId=adminclient-3] Connection to node -1 (localhost/127.0.0.1:9092) could not be established. Broker may not be available.\n",
      "24/04/07 03:20:27 WARN NetworkClient: [AdminClient clientId=adminclient-3] Connection to node -1 (localhost/127.0.0.1:9092) could not be established. Broker may not be available.\n",
      "24/04/07 03:20:27 WARN NetworkClient: [AdminClient clientId=adminclient-3] Connection to node -1 (localhost/127.0.0.1:9092) could not be established. Broker may not be available.\n",
      "24/04/07 03:20:28 WARN NetworkClient: [AdminClient clientId=adminclient-3] Connection to node -1 (localhost/127.0.0.1:9092) could not be established. Broker may not be available.\n",
      "24/04/07 03:20:28 WARN NetworkClient: [AdminClient clientId=adminclient-3] Connection to node -1 (localhost/127.0.0.1:9092) could not be established. Broker may not be available.\n",
      "24/04/07 03:20:29 WARN NetworkClient: [AdminClient clientId=adminclient-3] Connection to node -1 (localhost/127.0.0.1:9092) could not be established. Broker may not be available.\n",
      "24/04/07 03:20:30 WARN NetworkClient: [AdminClient clientId=adminclient-3] Connection to node -1 (localhost/127.0.0.1:9092) could not be established. Broker may not be available.\n",
      "24/04/07 03:20:32 WARN NetworkClient: [AdminClient clientId=adminclient-3] Connection to node -1 (localhost/127.0.0.1:9092) could not be established. Broker may not be available.\n",
      "24/04/07 03:20:33 WARN NetworkClient: [AdminClient clientId=adminclient-3] Connection to node -1 (localhost/127.0.0.1:9092) could not be established. Broker may not be available.\n",
      "24/04/07 03:20:34 WARN NetworkClient: [AdminClient clientId=adminclient-3] Connection to node -1 (localhost/127.0.0.1:9092) could not be established. Broker may not be available.\n",
      "24/04/07 03:20:35 WARN NetworkClient: [AdminClient clientId=adminclient-3] Connection to node -1 (localhost/127.0.0.1:9092) could not be established. Broker may not be available.\n",
      "24/04/07 03:20:36 WARN NetworkClient: [AdminClient clientId=adminclient-3] Connection to node -1 (localhost/127.0.0.1:9092) could not be established. Broker may not be available.\n",
      "24/04/07 03:20:37 WARN NetworkClient: [AdminClient clientId=adminclient-3] Connection to node -1 (localhost/127.0.0.1:9092) could not be established. Broker may not be available.\n",
      "24/04/07 03:20:38 WARN NetworkClient: [AdminClient clientId=adminclient-3] Connection to node -1 (localhost/127.0.0.1:9092) could not be established. Broker may not be available.\n",
      "24/04/07 03:20:39 WARN NetworkClient: [AdminClient clientId=adminclient-3] Connection to node -1 (localhost/127.0.0.1:9092) could not be established. Broker may not be available.\n",
      "24/04/07 03:20:41 WARN NetworkClient: [AdminClient clientId=adminclient-3] Connection to node -1 (localhost/127.0.0.1:9092) could not be established. Broker may not be available.\n",
      "24/04/07 03:20:42 WARN NetworkClient: [AdminClient clientId=adminclient-3] Connection to node -1 (localhost/127.0.0.1:9092) could not be established. Broker may not be available.\n",
      "24/04/07 03:20:43 WARN NetworkClient: [AdminClient clientId=adminclient-3] Connection to node -1 (localhost/127.0.0.1:9092) could not be established. Broker may not be available.\n",
      "24/04/07 03:20:44 WARN NetworkClient: [AdminClient clientId=adminclient-3] Connection to node -1 (localhost/127.0.0.1:9092) could not be established. Broker may not be available.\n",
      "24/04/07 03:20:45 WARN NetworkClient: [AdminClient clientId=adminclient-3] Connection to node -1 (localhost/127.0.0.1:9092) could not be established. Broker may not be available.\n",
      "24/04/07 03:20:46 WARN NetworkClient: [AdminClient clientId=adminclient-3] Connection to node -1 (localhost/127.0.0.1:9092) could not be established. Broker may not be available.\n",
      "24/04/07 03:20:47 WARN NetworkClient: [AdminClient clientId=adminclient-3] Connection to node -1 (localhost/127.0.0.1:9092) could not be established. Broker may not be available.\n",
      "24/04/07 03:20:48 WARN NetworkClient: [AdminClient clientId=adminclient-3] Connection to node -1 (localhost/127.0.0.1:9092) could not be established. Broker may not be available.\n",
      "24/04/07 03:20:49 WARN NetworkClient: [AdminClient clientId=adminclient-3] Connection to node -1 (localhost/127.0.0.1:9092) could not be established. Broker may not be available.\n",
      "24/04/07 03:20:50 WARN NetworkClient: [AdminClient clientId=adminclient-3] Connection to node -1 (localhost/127.0.0.1:9092) could not be established. Broker may not be available.\n",
      "24/04/07 03:20:51 WARN NetworkClient: [AdminClient clientId=adminclient-3] Connection to node -1 (localhost/127.0.0.1:9092) could not be established. Broker may not be available.\n",
      "24/04/07 03:20:52 WARN NetworkClient: [AdminClient clientId=adminclient-3] Connection to node -1 (localhost/127.0.0.1:9092) could not be established. Broker may not be available.\n",
      "24/04/07 03:20:53 WARN NetworkClient: [AdminClient clientId=adminclient-3] Connection to node -1 (localhost/127.0.0.1:9092) could not be established. Broker may not be available.\n",
      "24/04/07 03:20:54 WARN NetworkClient: [AdminClient clientId=adminclient-3] Connection to node -1 (localhost/127.0.0.1:9092) could not be established. Broker may not be available.\n",
      "24/04/07 03:20:56 WARN NetworkClient: [AdminClient clientId=adminclient-3] Connection to node -1 (localhost/127.0.0.1:9092) could not be established. Broker may not be available.\n",
      "24/04/07 03:20:57 WARN NetworkClient: [AdminClient clientId=adminclient-3] Connection to node -1 (localhost/127.0.0.1:9092) could not be established. Broker may not be available.\n",
      "24/04/07 03:20:58 WARN NetworkClient: [AdminClient clientId=adminclient-3] Connection to node -1 (localhost/127.0.0.1:9092) could not be established. Broker may not be available.\n",
      "24/04/07 03:20:59 WARN NetworkClient: [AdminClient clientId=adminclient-3] Connection to node -1 (localhost/127.0.0.1:9092) could not be established. Broker may not be available.\n",
      "24/04/07 03:21:00 WARN NetworkClient: [AdminClient clientId=adminclient-3] Connection to node -1 (localhost/127.0.0.1:9092) could not be established. Broker may not be available.\n",
      "24/04/07 03:21:01 WARN NetworkClient: [AdminClient clientId=adminclient-3] Connection to node -1 (localhost/127.0.0.1:9092) could not be established. Broker may not be available.\n",
      "24/04/07 03:21:02 WARN NetworkClient: [AdminClient clientId=adminclient-3] Connection to node -1 (localhost/127.0.0.1:9092) could not be established. Broker may not be available.\n",
      "24/04/07 03:21:03 WARN NetworkClient: [AdminClient clientId=adminclient-3] Connection to node -1 (localhost/127.0.0.1:9092) could not be established. Broker may not be available.\n",
      "24/04/07 03:21:04 WARN NetworkClient: [AdminClient clientId=adminclient-3] Connection to node -1 (localhost/127.0.0.1:9092) could not be established. Broker may not be available.\n",
      "24/04/07 03:21:05 WARN NetworkClient: [AdminClient clientId=adminclient-3] Connection to node -1 (localhost/127.0.0.1:9092) could not be established. Broker may not be available.\n",
      "24/04/07 03:21:06 WARN NetworkClient: [AdminClient clientId=adminclient-3] Connection to node -1 (localhost/127.0.0.1:9092) could not be established. Broker may not be available.\n",
      "24/04/07 03:21:07 WARN NetworkClient: [AdminClient clientId=adminclient-3] Connection to node -1 (localhost/127.0.0.1:9092) could not be established. Broker may not be available.\n",
      "24/04/07 03:21:08 WARN NetworkClient: [AdminClient clientId=adminclient-3] Connection to node -1 (localhost/127.0.0.1:9092) could not be established. Broker may not be available.\n",
      "24/04/07 03:21:10 WARN NetworkClient: [AdminClient clientId=adminclient-3] Connection to node -1 (localhost/127.0.0.1:9092) could not be established. Broker may not be available.\n",
      "24/04/07 03:21:11 WARN NetworkClient: [AdminClient clientId=adminclient-3] Connection to node -1 (localhost/127.0.0.1:9092) could not be established. Broker may not be available.\n",
      "24/04/07 03:21:12 WARN NetworkClient: [AdminClient clientId=adminclient-3] Connection to node -1 (localhost/127.0.0.1:9092) could not be established. Broker may not be available.\n",
      "24/04/07 03:21:13 WARN NetworkClient: [AdminClient clientId=adminclient-3] Connection to node -1 (localhost/127.0.0.1:9092) could not be established. Broker may not be available.\n",
      "24/04/07 03:21:14 WARN NetworkClient: [AdminClient clientId=adminclient-3] Connection to node -1 (localhost/127.0.0.1:9092) could not be established. Broker may not be available.\n",
      "24/04/07 03:21:15 WARN NetworkClient: [AdminClient clientId=adminclient-3] Connection to node -1 (localhost/127.0.0.1:9092) could not be established. Broker may not be available.\n",
      "24/04/07 03:21:16 WARN NetworkClient: [AdminClient clientId=adminclient-3] Connection to node -1 (localhost/127.0.0.1:9092) could not be established. Broker may not be available.\n",
      "24/04/07 03:21:17 WARN NetworkClient: [AdminClient clientId=adminclient-3] Connection to node -1 (localhost/127.0.0.1:9092) could not be established. Broker may not be available.\n",
      "24/04/07 03:21:18 WARN NetworkClient: [AdminClient clientId=adminclient-3] Connection to node -1 (localhost/127.0.0.1:9092) could not be established. Broker may not be available.\n",
      "24/04/07 03:21:20 WARN NetworkClient: [AdminClient clientId=adminclient-3] Connection to node -1 (localhost/127.0.0.1:9092) could not be established. Broker may not be available.\n",
      "24/04/07 03:21:21 WARN NetworkClient: [AdminClient clientId=adminclient-3] Connection to node -1 (localhost/127.0.0.1:9092) could not be established. Broker may not be available.\n",
      "24/04/07 03:21:22 WARN NetworkClient: [AdminClient clientId=adminclient-3] Connection to node -1 (localhost/127.0.0.1:9092) could not be established. Broker may not be available.\n",
      "24/04/07 03:21:23 WARN NetworkClient: [AdminClient clientId=adminclient-3] Connection to node -1 (localhost/127.0.0.1:9092) could not be established. Broker may not be available.\n",
      "24/04/07 03:21:24 WARN NetworkClient: [AdminClient clientId=adminclient-3] Connection to node -1 (localhost/127.0.0.1:9092) could not be established. Broker may not be available.\n",
      "24/04/07 03:21:25 WARN NetworkClient: [AdminClient clientId=adminclient-3] Connection to node -1 (localhost/127.0.0.1:9092) could not be established. Broker may not be available.\n",
      "24/04/07 03:21:26 WARN NetworkClient: [AdminClient clientId=adminclient-3] Connection to node -1 (localhost/127.0.0.1:9092) could not be established. Broker may not be available.\n",
      "24/04/07 03:21:27 WARN KafkaOffsetReaderAdmin: Error in attempt 3 getting Kafka offsets: \n",
      "java.util.concurrent.ExecutionException: org.apache.kafka.common.errors.TimeoutException: Timed out waiting for a node assignment. Call: describeTopics\n",
      "\tat java.util.concurrent.CompletableFuture.reportGet(CompletableFuture.java:357)\n",
      "\tat java.util.concurrent.CompletableFuture.get(CompletableFuture.java:1908)\n",
      "\tat org.apache.kafka.common.internals.KafkaFutureImpl.get(KafkaFutureImpl.java:165)\n",
      "\tat org.apache.spark.sql.kafka010.ConsumerStrategy.retrieveAllPartitions(ConsumerStrategy.scala:66)\n",
      "\tat org.apache.spark.sql.kafka010.ConsumerStrategy.retrieveAllPartitions$(ConsumerStrategy.scala:65)\n",
      "\tat org.apache.spark.sql.kafka010.SubscribeStrategy.retrieveAllPartitions(ConsumerStrategy.scala:102)\n",
      "\tat org.apache.spark.sql.kafka010.SubscribeStrategy.assignedTopicPartitions(ConsumerStrategy.scala:113)\n",
      "\tat org.apache.spark.sql.kafka010.KafkaOffsetReaderAdmin.$anonfun$partitionsAssignedToAdmin$1(KafkaOffsetReaderAdmin.scala:499)\n",
      "\tat org.apache.spark.sql.kafka010.KafkaOffsetReaderAdmin.withRetries(KafkaOffsetReaderAdmin.scala:518)\n",
      "\tat org.apache.spark.sql.kafka010.KafkaOffsetReaderAdmin.partitionsAssignedToAdmin(KafkaOffsetReaderAdmin.scala:498)\n",
      "\tat org.apache.spark.sql.kafka010.KafkaOffsetReaderAdmin.fetchLatestOffsets(KafkaOffsetReaderAdmin.scala:297)\n",
      "\tat org.apache.spark.sql.kafka010.KafkaMicroBatchStream.latestOffset(KafkaMicroBatchStream.scala:130)\n",
      "\tat org.apache.spark.sql.execution.streaming.MicroBatchExecution.$anonfun$constructNextBatch$4(MicroBatchExecution.scala:491)\n",
      "\tat org.apache.spark.sql.execution.streaming.ProgressReporter.reportTimeTaken(ProgressReporter.scala:427)\n",
      "\tat org.apache.spark.sql.execution.streaming.ProgressReporter.reportTimeTaken$(ProgressReporter.scala:425)\n",
      "\tat org.apache.spark.sql.execution.streaming.StreamExecution.reportTimeTaken(StreamExecution.scala:67)\n",
      "\tat org.apache.spark.sql.execution.streaming.MicroBatchExecution.$anonfun$constructNextBatch$2(MicroBatchExecution.scala:490)\n",
      "\tat scala.collection.TraversableLike.$anonfun$map$1(TraversableLike.scala:286)\n",
      "\tat scala.collection.Iterator.foreach(Iterator.scala:943)\n",
      "\tat scala.collection.Iterator.foreach$(Iterator.scala:943)\n",
      "\tat scala.collection.AbstractIterator.foreach(Iterator.scala:1431)\n",
      "\tat scala.collection.IterableLike.foreach(IterableLike.scala:74)\n",
      "\tat scala.collection.IterableLike.foreach$(IterableLike.scala:73)\n",
      "\tat scala.collection.AbstractIterable.foreach(Iterable.scala:56)\n",
      "\tat scala.collection.TraversableLike.map(TraversableLike.scala:286)\n",
      "\tat scala.collection.TraversableLike.map$(TraversableLike.scala:279)\n",
      "\tat scala.collection.AbstractTraversable.map(Traversable.scala:108)\n",
      "\tat org.apache.spark.sql.execution.streaming.MicroBatchExecution.$anonfun$constructNextBatch$1(MicroBatchExecution.scala:479)\n",
      "\tat scala.runtime.java8.JFunction0$mcZ$sp.apply(JFunction0$mcZ$sp.java:23)\n",
      "\tat org.apache.spark.sql.execution.streaming.MicroBatchExecution.withProgressLocked(MicroBatchExecution.scala:810)\n",
      "\tat org.apache.spark.sql.execution.streaming.MicroBatchExecution.constructNextBatch(MicroBatchExecution.scala:475)\n",
      "\tat org.apache.spark.sql.execution.streaming.MicroBatchExecution.$anonfun$runActivatedStream$2(MicroBatchExecution.scala:268)\n",
      "\tat scala.runtime.java8.JFunction0$mcV$sp.apply(JFunction0$mcV$sp.java:23)\n",
      "\tat org.apache.spark.sql.execution.streaming.ProgressReporter.reportTimeTaken(ProgressReporter.scala:427)\n",
      "\tat org.apache.spark.sql.execution.streaming.ProgressReporter.reportTimeTaken$(ProgressReporter.scala:425)\n",
      "\tat org.apache.spark.sql.execution.streaming.StreamExecution.reportTimeTaken(StreamExecution.scala:67)\n",
      "\tat org.apache.spark.sql.execution.streaming.MicroBatchExecution.$anonfun$runActivatedStream$1(MicroBatchExecution.scala:249)\n",
      "\tat org.apache.spark.sql.execution.streaming.ProcessingTimeExecutor.execute(TriggerExecutor.scala:67)\n",
      "\tat org.apache.spark.sql.execution.streaming.MicroBatchExecution.runActivatedStream(MicroBatchExecution.scala:239)\n",
      "\tat org.apache.spark.sql.execution.streaming.StreamExecution.$anonfun$runStream$1(StreamExecution.scala:311)\n",
      "\tat scala.runtime.java8.JFunction0$mcV$sp.apply(JFunction0$mcV$sp.java:23)\n",
      "\tat org.apache.spark.sql.SparkSession.withActive(SparkSession.scala:900)\n",
      "\tat org.apache.spark.sql.execution.streaming.StreamExecution.org$apache$spark$sql$execution$streaming$StreamExecution$$runStream(StreamExecution.scala:289)\n",
      "\tat org.apache.spark.sql.execution.streaming.StreamExecution$$anon$1.$anonfun$run$1(StreamExecution.scala:211)\n",
      "\tat scala.runtime.java8.JFunction0$mcV$sp.apply(JFunction0$mcV$sp.java:23)\n",
      "\tat org.apache.spark.JobArtifactSet$.withActiveJobArtifactState(JobArtifactSet.scala:94)\n",
      "\tat org.apache.spark.sql.execution.streaming.StreamExecution$$anon$1.run(StreamExecution.scala:211)\n",
      "Caused by: org.apache.kafka.common.errors.TimeoutException: Timed out waiting for a node assignment. Call: describeTopics\n",
      "24/04/07 03:21:27 WARN NetworkClient: [AdminClient clientId=adminclient-3] Connection to node -1 (localhost/127.0.0.1:9092) could not be established. Broker may not be available.\n",
      "24/04/07 03:21:28 ERROR MicroBatchExecution: Query kafka_transform [id = dc68be7e-34a6-4a4b-944e-ac3990394490, runId = a100f1b9-0117-48d5-94ae-fe440d70ada5] terminated with error\n",
      "java.util.concurrent.ExecutionException: org.apache.kafka.common.errors.TimeoutException: Timed out waiting for a node assignment. Call: describeTopics\n",
      "\tat java.util.concurrent.CompletableFuture.reportGet(CompletableFuture.java:357)\n",
      "\tat java.util.concurrent.CompletableFuture.get(CompletableFuture.java:1908)\n",
      "\tat org.apache.kafka.common.internals.KafkaFutureImpl.get(KafkaFutureImpl.java:165)\n",
      "\tat org.apache.spark.sql.kafka010.ConsumerStrategy.retrieveAllPartitions(ConsumerStrategy.scala:66)\n",
      "\tat org.apache.spark.sql.kafka010.ConsumerStrategy.retrieveAllPartitions$(ConsumerStrategy.scala:65)\n",
      "\tat org.apache.spark.sql.kafka010.SubscribeStrategy.retrieveAllPartitions(ConsumerStrategy.scala:102)\n",
      "\tat org.apache.spark.sql.kafka010.SubscribeStrategy.assignedTopicPartitions(ConsumerStrategy.scala:113)\n",
      "\tat org.apache.spark.sql.kafka010.KafkaOffsetReaderAdmin.$anonfun$partitionsAssignedToAdmin$1(KafkaOffsetReaderAdmin.scala:499)\n",
      "\tat org.apache.spark.sql.kafka010.KafkaOffsetReaderAdmin.withRetries(KafkaOffsetReaderAdmin.scala:518)\n",
      "\tat org.apache.spark.sql.kafka010.KafkaOffsetReaderAdmin.partitionsAssignedToAdmin(KafkaOffsetReaderAdmin.scala:498)\n",
      "\tat org.apache.spark.sql.kafka010.KafkaOffsetReaderAdmin.fetchLatestOffsets(KafkaOffsetReaderAdmin.scala:297)\n",
      "\tat org.apache.spark.sql.kafka010.KafkaMicroBatchStream.latestOffset(KafkaMicroBatchStream.scala:130)\n",
      "\tat org.apache.spark.sql.execution.streaming.MicroBatchExecution.$anonfun$constructNextBatch$4(MicroBatchExecution.scala:491)\n",
      "\tat org.apache.spark.sql.execution.streaming.ProgressReporter.reportTimeTaken(ProgressReporter.scala:427)\n",
      "\tat org.apache.spark.sql.execution.streaming.ProgressReporter.reportTimeTaken$(ProgressReporter.scala:425)\n",
      "\tat org.apache.spark.sql.execution.streaming.StreamExecution.reportTimeTaken(StreamExecution.scala:67)\n",
      "\tat org.apache.spark.sql.execution.streaming.MicroBatchExecution.$anonfun$constructNextBatch$2(MicroBatchExecution.scala:490)\n",
      "\tat scala.collection.TraversableLike.$anonfun$map$1(TraversableLike.scala:286)\n",
      "\tat scala.collection.Iterator.foreach(Iterator.scala:943)\n",
      "\tat scala.collection.Iterator.foreach$(Iterator.scala:943)\n",
      "\tat scala.collection.AbstractIterator.foreach(Iterator.scala:1431)\n",
      "\tat scala.collection.IterableLike.foreach(IterableLike.scala:74)\n",
      "\tat scala.collection.IterableLike.foreach$(IterableLike.scala:73)\n",
      "\tat scala.collection.AbstractIterable.foreach(Iterable.scala:56)\n",
      "\tat scala.collection.TraversableLike.map(TraversableLike.scala:286)\n",
      "\tat scala.collection.TraversableLike.map$(TraversableLike.scala:279)\n",
      "\tat scala.collection.AbstractTraversable.map(Traversable.scala:108)\n",
      "\tat org.apache.spark.sql.execution.streaming.MicroBatchExecution.$anonfun$constructNextBatch$1(MicroBatchExecution.scala:479)\n",
      "\tat scala.runtime.java8.JFunction0$mcZ$sp.apply(JFunction0$mcZ$sp.java:23)\n",
      "\tat org.apache.spark.sql.execution.streaming.MicroBatchExecution.withProgressLocked(MicroBatchExecution.scala:810)\n",
      "\tat org.apache.spark.sql.execution.streaming.MicroBatchExecution.constructNextBatch(MicroBatchExecution.scala:475)\n",
      "\tat org.apache.spark.sql.execution.streaming.MicroBatchExecution.$anonfun$runActivatedStream$2(MicroBatchExecution.scala:268)\n",
      "\tat scala.runtime.java8.JFunction0$mcV$sp.apply(JFunction0$mcV$sp.java:23)\n",
      "\tat org.apache.spark.sql.execution.streaming.ProgressReporter.reportTimeTaken(ProgressReporter.scala:427)\n",
      "\tat org.apache.spark.sql.execution.streaming.ProgressReporter.reportTimeTaken$(ProgressReporter.scala:425)\n",
      "\tat org.apache.spark.sql.execution.streaming.StreamExecution.reportTimeTaken(StreamExecution.scala:67)\n",
      "\tat org.apache.spark.sql.execution.streaming.MicroBatchExecution.$anonfun$runActivatedStream$1(MicroBatchExecution.scala:249)\n",
      "\tat org.apache.spark.sql.execution.streaming.ProcessingTimeExecutor.execute(TriggerExecutor.scala:67)\n",
      "\tat org.apache.spark.sql.execution.streaming.MicroBatchExecution.runActivatedStream(MicroBatchExecution.scala:239)\n",
      "\tat org.apache.spark.sql.execution.streaming.StreamExecution.$anonfun$runStream$1(StreamExecution.scala:311)\n",
      "\tat scala.runtime.java8.JFunction0$mcV$sp.apply(JFunction0$mcV$sp.java:23)\n",
      "\tat org.apache.spark.sql.SparkSession.withActive(SparkSession.scala:900)\n",
      "\tat org.apache.spark.sql.execution.streaming.StreamExecution.org$apache$spark$sql$execution$streaming$StreamExecution$$runStream(StreamExecution.scala:289)\n",
      "\tat org.apache.spark.sql.execution.streaming.StreamExecution$$anon$1.$anonfun$run$1(StreamExecution.scala:211)\n",
      "\tat scala.runtime.java8.JFunction0$mcV$sp.apply(JFunction0$mcV$sp.java:23)\n",
      "\tat org.apache.spark.JobArtifactSet$.withActiveJobArtifactState(JobArtifactSet.scala:94)\n",
      "\tat org.apache.spark.sql.execution.streaming.StreamExecution$$anon$1.run(StreamExecution.scala:211)\n",
      "Caused by: org.apache.kafka.common.errors.TimeoutException: Timed out waiting for a node assignment. Call: describeTopics\n"
     ]
    }
   ],
   "source": [
    "spark.sql(\"SELECT get_json_object(f.value, '$.Index') as idx,get_json_object(f.value, '$.Device') as Device FROM kafka_transform f \").tail(5)"
   ]
  },
  {
   "cell_type": "markdown",
   "metadata": {},
   "source": [
    "# END\n"
   ]
  },
  {
   "cell_type": "markdown",
   "metadata": {},
   "source": [
    "Thank you "
   ]
  }
 ],
 "metadata": {
  "kernelspec": {
   "display_name": "Python 3 (ipykernel)",
   "language": "python",
   "name": "python3"
  },
  "language_info": {
   "codemirror_mode": {
    "name": "ipython",
    "version": 3
   },
   "file_extension": ".py",
   "mimetype": "text/x-python",
   "name": "python",
   "nbconvert_exporter": "python",
   "pygments_lexer": "ipython3",
   "version": "3.11.7"
  }
 },
 "nbformat": 4,
 "nbformat_minor": 4
}
